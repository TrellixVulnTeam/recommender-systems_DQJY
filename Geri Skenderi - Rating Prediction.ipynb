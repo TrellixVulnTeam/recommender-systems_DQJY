{
 "cells": [
  {
   "cell_type": "code",
   "execution_count": 9,
   "metadata": {},
   "outputs": [],
   "source": [
    "import pandas as pd\n",
    "import numpy as np\n",
    "from surprise import SVD, SVDpp, KNNBasic, BaselineOnly, NormalPredictor\n",
    "from surprise import Dataset, Reader\n",
    "from surprise.model_selection import GridSearchCV, KFold, cross_validate"
   ]
  },
  {
   "cell_type": "markdown",
   "metadata": {},
   "source": [
    "# Read and load data"
   ]
  },
  {
   "cell_type": "code",
   "execution_count": 2,
   "metadata": {},
   "outputs": [
    {
     "name": "stdout",
     "output_type": "stream",
     "text": [
      "   userID  itemID  rating  timestamp\n",
      "0     196     242       3  881250949\n",
      "1     186     302       3  891717742\n",
      "2      22     377       1  878887116\n",
      "3     244      51       2  880606923\n",
      "4     166     346       1  886397596\n",
      "\n",
      "\n",
      "\n",
      "   userID  itemID  rating  timeStamp\n",
      "0       5     648       5  978297876\n",
      "1       5    1394       5  978298237\n",
      "2       5    3534       5  978297149\n",
      "3       5     104       4  978298558\n",
      "4       5    2735       5  978297919\n"
     ]
    }
   ],
   "source": [
    "# Read both the datasets from the files using pandas\n",
    "movielens_df = pd.read_csv(\"u.data\", sep=\"\\t\", header=None)\n",
    "movielens_df.columns = [\"userID\", \"itemID\", \"rating\", \"timestamp\"]\n",
    "pda_df = pd.read_csv(\"train-PDA2018.csv\", sep=\",\")\n",
    "print(movielens_df.head())\n",
    "print(\"\\n\\n\")\n",
    "print(pda_df.head())"
   ]
  },
  {
   "cell_type": "code",
   "execution_count": 3,
   "metadata": {},
   "outputs": [
    {
     "name": "stdout",
     "output_type": "stream",
     "text": [
      "1) Number of items in each dataset  ML100k: 1682 PDA: 1824\n",
      "2) Number of users in each dataset  ML100k: 943 PDA: 5690\n",
      "3) Number of ratings in each dataset  ML100k: 100000 PDA: 470711\n",
      "4) Mean rating  ML100k: 3.52986 PDA: 3.638361967321775\n",
      "4) Dataset rating  ML100k: 3.52986 PDA: 3.638361967321775\n"
     ]
    }
   ],
   "source": [
    "# Create the training datasets using Surprise's reader class\n",
    "reader = Reader(rating_scale=(1,5)) # We have ratings from 1 to 5 so we create the rating scale\n",
    "\n",
    "# Load the data from the dataframes\n",
    "movielens_dataset = Dataset.load_from_df(movielens_df.iloc[:,0:3], reader)\n",
    "pda_dataset = Dataset.load_from_df(pda_df.iloc[:,0:3], reader)\n",
    "\n",
    "# Build the training sets from the data loaded above. What we are doing here is using the whole dataset\n",
    "# and the build_full_trainset method is essentially converting our data into userxitem matrices\n",
    "movielens_trainset = movielens_dataset.build_full_trainset()\n",
    "pda_trainset = pda_dataset.build_full_trainset()\n",
    "\n",
    "# Print out some basic information about the datasets\n",
    "print(\"1) Number of items in each dataset\", \" ML100k:\", movielens_trainset.n_items, \"PDA:\", pda_trainset.n_items)\n",
    "print(\"2) Number of users in each dataset\", \" ML100k:\", movielens_trainset.n_users, \"PDA:\", pda_trainset.n_users)\n",
    "print(\"3) Number of ratings in each dataset\", \" ML100k:\", movielens_trainset.n_ratings, \"PDA:\", pda_trainset.n_ratings)\n",
    "print(\"4) Mean rating\", \" ML100k:\", movielens_trainset.global_mean, \"PDA:\", pda_trainset.global_mean)\n",
    "print(\"4) Dataset rating\", \" ML100k:\", movielens_trainset.global_mean, \"PDA:\", pda_trainset.global_mean)"
   ]
  },
  {
   "cell_type": "markdown",
   "metadata": {},
   "source": [
    "# Perform Grid Search"
   ]
  },
  {
   "cell_type": "code",
   "execution_count": 4,
   "metadata": {},
   "outputs": [
    {
     "name": "stdout",
     "output_type": "stream",
     "text": [
      "Running grid search for SVD\n",
      "Results:\n",
      "Best RMSE: 0.9638859056171045\n",
      "Best params for RMSE {'n_epochs': 20, 'lr_all': 0.001, 'reg_all': 0.01}\n",
      "Best MAE: 0.7653808770918966\n",
      "Best params for MAE {'n_epochs': 20, 'lr_all': 0.001, 'reg_all': 0.01}\n",
      "\n",
      "\n",
      "Running grid search for KNN\n",
      "Computing the msd similarity matrix...\n",
      "Done computing similarity matrix.\n",
      "Computing the msd similarity matrix...\n",
      "Done computing similarity matrix.\n",
      "Computing the msd similarity matrix...\n",
      "Done computing similarity matrix.\n",
      "Computing the msd similarity matrix...\n",
      "Done computing similarity matrix.\n",
      "Computing the msd similarity matrix...\n",
      "Done computing similarity matrix.\n",
      "Computing the msd similarity matrix...\n",
      "Done computing similarity matrix.\n",
      "Computing the msd similarity matrix...\n",
      "Done computing similarity matrix.\n",
      "Computing the msd similarity matrix...\n",
      "Done computing similarity matrix.\n",
      "Computing the msd similarity matrix...\n",
      "Done computing similarity matrix.\n",
      "Computing the msd similarity matrix...\n",
      "Done computing similarity matrix.\n",
      "Computing the msd similarity matrix...\n",
      "Done computing similarity matrix.\n",
      "Computing the msd similarity matrix...\n",
      "Done computing similarity matrix.\n",
      "Computing the msd similarity matrix...\n",
      "Done computing similarity matrix.\n",
      "Computing the msd similarity matrix...\n",
      "Done computing similarity matrix.\n",
      "Computing the msd similarity matrix...\n",
      "Done computing similarity matrix.\n",
      "Computing the msd similarity matrix...\n",
      "Done computing similarity matrix.\n",
      "Computing the msd similarity matrix...\n",
      "Done computing similarity matrix.\n",
      "Computing the msd similarity matrix...\n",
      "Done computing similarity matrix.\n",
      "Computing the msd similarity matrix...\n",
      "Done computing similarity matrix.\n",
      "Computing the msd similarity matrix...\n",
      "Done computing similarity matrix.\n",
      "Computing the msd similarity matrix...\n",
      "Done computing similarity matrix.\n",
      "Computing the msd similarity matrix...\n",
      "Done computing similarity matrix.\n",
      "Computing the msd similarity matrix...\n",
      "Done computing similarity matrix.\n",
      "Computing the msd similarity matrix...\n",
      "Done computing similarity matrix.\n",
      "Computing the msd similarity matrix...\n",
      "Done computing similarity matrix.\n",
      "Computing the msd similarity matrix...\n",
      "Done computing similarity matrix.\n",
      "Computing the msd similarity matrix...\n",
      "Done computing similarity matrix.\n",
      "Computing the msd similarity matrix...\n",
      "Done computing similarity matrix.\n",
      "Computing the msd similarity matrix...\n",
      "Done computing similarity matrix.\n",
      "Computing the msd similarity matrix...\n",
      "Done computing similarity matrix.\n",
      "Computing the msd similarity matrix...\n",
      "Done computing similarity matrix.\n",
      "Computing the msd similarity matrix...\n",
      "Done computing similarity matrix.\n",
      "Computing the msd similarity matrix...\n",
      "Done computing similarity matrix.\n",
      "Computing the msd similarity matrix...\n",
      "Done computing similarity matrix.\n",
      "Computing the msd similarity matrix...\n",
      "Done computing similarity matrix.\n",
      "Computing the msd similarity matrix...\n",
      "Done computing similarity matrix.\n",
      "Computing the msd similarity matrix...\n",
      "Done computing similarity matrix.\n",
      "Computing the msd similarity matrix...\n",
      "Done computing similarity matrix.\n",
      "Computing the msd similarity matrix...\n",
      "Done computing similarity matrix.\n",
      "Computing the msd similarity matrix...\n",
      "Done computing similarity matrix.\n",
      "Results:\n",
      "Best RMSE: 0.9795282480013796\n",
      "Best params for RMSE {'n_epochs': 5, 'lr_all': 0.001, 'reg_all': 0.01}\n",
      "Best MAE: 0.7733485332786405\n",
      "Best params for MAE {'n_epochs': 5, 'lr_all': 0.001, 'reg_all': 0.01}\n",
      "\n",
      "\n"
     ]
    }
   ],
   "source": [
    "# Define a dict of recommender algorithms we wish to do the grid search for\n",
    "algorithms = {\"SVD\": SVD, \"KNN\": KNNBasic}\n",
    "\n",
    "# Run grid search in order to check for parameters that will allow for optimal RMSE and MAE\n",
    "# Define the parameters and their respective ranges\n",
    "param_grid = {\n",
    "    \"n_epochs\": [5,20],\n",
    "    \"lr_all\": [0.001, 0.05],\n",
    "    \"reg_all\": [0.01, 0.5]\n",
    "}\n",
    "\n",
    "best_params = {}\n",
    "\n",
    "for algo in algorithms:\n",
    "    gs = GridSearchCV(algorithms[algo], param_grid, measures=[\"rmse\", \"mae\"], cv=5)\n",
    "    print(\"Running grid search for\", algo)\n",
    "    gs.fit(movielens_dataset)\n",
    "    print(\"Results:\")\n",
    "    print(\"Best RMSE:\", gs.best_score[\"rmse\"])\n",
    "    best_params[algo+\"RMSE\"] = gs.best_params[\"rmse\"]\n",
    "    print(\"Best params for RMSE\", gs.best_params[\"rmse\"])\n",
    "    print(\"Best MAE:\", gs.best_score[\"mae\"])\n",
    "    print(\"Best params for MAE\", gs.best_params[\"mae\"])\n",
    "    best_params[algo+\"MAE\"] = gs.best_params[\"mae\"]\n",
    "    print(\"\\n\")"
   ]
  },
  {
   "cell_type": "markdown",
   "metadata": {},
   "source": [
    "# Cross Validation"
   ]
  },
  {
   "cell_type": "code",
   "execution_count": 5,
   "metadata": {},
   "outputs": [],
   "source": [
    "# variable declarations: the 5 fold split and a list that will contain the results of the cross validation procedure\n",
    "kf = KFold(n_splits=5, random_state=0) # equal folds for all algorithms (hence random_state = 0)\n",
    "table = []"
   ]
  },
  {
   "cell_type": "markdown",
   "metadata": {},
   "source": [
    "## Basic algorithms"
   ]
  },
  {
   "cell_type": "code",
   "execution_count": 7,
   "metadata": {},
   "outputs": [
    {
     "name": "stdout",
     "output_type": "stream",
     "text": [
      "Estimating biases using als...\n",
      "Estimating biases using als...\n",
      "Estimating biases using als...\n",
      "Estimating biases using als...\n",
      "Estimating biases using als...\n",
      "[[<class 'surprise.prediction_algorithms.baseline_only.BaselineOnly'>, '0.944.', '0.748.'], [<class 'surprise.prediction_algorithms.random_pred.NormalPredictor'>, '1.522.', '1.221.']]\n"
     ]
    }
   ],
   "source": [
    "# Run 5 fold cross validation for the following recommender algorithms\n",
    "basic_algos = (BaselineOnly, NormalPredictor)\n",
    "basic_titles = (\"Baseline\", \"Random\")\n",
    "\n",
    "fold_n = 0\n",
    "# Run 5 fold cross validation\n",
    "for algo in basic_algos:\n",
    "    out = cross_validate(algo(), movielens_dataset, [\"rmse\", \"mae\"], kf)\n",
    "    mean_rmse = '{:.3f}.'.format(np.mean(out['test_rmse']))\n",
    "    mean_mae = '{:.3f}.'.format(np.mean(out['test_mae']))\n",
    "    new_line = [basic_titles[fold_n], mean_rmse, mean_mae]\n",
    "    table.append(new_line)\n",
    "    fold_n += 1\n",
    "    \n",
    "print(table)"
   ]
  },
  {
   "cell_type": "markdown",
   "metadata": {},
   "source": [
    "## KNN Collaborative Filtering"
   ]
  },
  {
   "cell_type": "code",
   "execution_count": 8,
   "metadata": {},
   "outputs": [
    {
     "name": "stdout",
     "output_type": "stream",
     "text": [
      "Computing the cosine similarity matrix...\n",
      "Done computing similarity matrix.\n",
      "Computing the cosine similarity matrix...\n",
      "Done computing similarity matrix.\n",
      "Computing the cosine similarity matrix...\n",
      "Done computing similarity matrix.\n",
      "Computing the cosine similarity matrix...\n",
      "Done computing similarity matrix.\n",
      "Computing the cosine similarity matrix...\n",
      "Done computing similarity matrix.\n",
      "Computing the cosine similarity matrix...\n",
      "Done computing similarity matrix.\n",
      "Computing the cosine similarity matrix...\n",
      "Done computing similarity matrix.\n",
      "Computing the cosine similarity matrix...\n",
      "Done computing similarity matrix.\n",
      "Computing the cosine similarity matrix...\n",
      "Done computing similarity matrix.\n",
      "Computing the cosine similarity matrix...\n",
      "Done computing similarity matrix.\n",
      "[[<class 'surprise.prediction_algorithms.baseline_only.BaselineOnly'>, '0.944.', '0.748.'], [<class 'surprise.prediction_algorithms.random_pred.NormalPredictor'>, '1.522.', '1.221.'], ['ubKNN', '1.017.', '0.804.'], ['ibKNN', '1.027.', '0.812.']]\n"
     ]
    }
   ],
   "source": [
    "# Run 5 fold cross validation for the following recommender algorithms\n",
    "knn_titles = (\"ubKNN\", \"ibKNN\")\n",
    "ub_options = {'name': 'cosine', 'user_based': True}\n",
    "ib_options = {'name': 'cosine', 'user_based': False}\n",
    "knn_options = {\"ubKNN\": ub_options , \"ibKNN\": ib_options}\n",
    "\n",
    "fold_n = 0\n",
    "# Run 5 fold cross validation\n",
    "for title in KNN_titles:    \n",
    "    out = cross_validate(KNNBasic(sim_options=knn_options[title]), movielens_dataset, [\"rmse\", \"mae\"], kf)\n",
    "    mean_rmse = '{:.3f}.'.format(np.mean(out['test_rmse']))\n",
    "    mean_mae = '{:.3f}.'.format(np.mean(out['test_mae']))\n",
    "    new_line = [title, mean_rmse, mean_mae]\n",
    "    table.append(new_line)\n",
    "    fold_n += 1\n",
    "    \n",
    "print(table)"
   ]
  },
  {
   "cell_type": "code",
   "execution_count": null,
   "metadata": {},
   "outputs": [],
   "source": [
    "# Run 5 fold cross validation for the following recommender algorithms\n",
    "svd_algos = (SVD, SVDpp)\n",
    "svd_titles = (\"SVD\", \"SVD++\")\n",
    "svd_options = {'name': 'cosine', 'user_based': True}\n",
    "\n",
    "fold_n = 0\n",
    "# Run 5 fold cross validation\n",
    "for algo in svd_algos:    \n",
    "    out = cross_validate(algo(n_epochs= 20, lr_all=0.001, reg_all=0.01), movielens_dataset, [\"rmse\", \"mae\"], kf)\n",
    "    mean_rmse = '{:.3f}.'.format(np.mean(out['test_rmse']))\n",
    "    mean_mae = '{:.3f}.'.format(np.mean(out['test_mae']))\n",
    "    new_line = [svd_titles[fold_n], mean_rmse, mean_mae]\n",
    "    table.append(new_line)\n",
    "    fold_n += 1\n",
    "    \n",
    "print(table)"
   ]
  },
  {
   "cell_type": "code",
   "execution_count": null,
   "metadata": {},
   "outputs": [],
   "source": []
  }
 ],
 "metadata": {
  "kernelspec": {
   "display_name": "Python 3",
   "language": "python",
   "name": "python3"
  },
  "language_info": {
   "codemirror_mode": {
    "name": "ipython",
    "version": 3
   },
   "file_extension": ".py",
   "mimetype": "text/x-python",
   "name": "python",
   "nbconvert_exporter": "python",
   "pygments_lexer": "ipython3",
   "version": "3.7.5"
  }
 },
 "nbformat": 4,
 "nbformat_minor": 4
}
