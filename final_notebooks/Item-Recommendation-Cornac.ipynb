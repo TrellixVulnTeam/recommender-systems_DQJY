{
 "cells": [
  {
   "cell_type": "code",
   "execution_count": 1,
   "metadata": {},
   "outputs": [
    {
     "name": "stdout",
     "output_type": "stream",
     "text": [
      "System version: 3.7.5 (default, Nov  1 2019, 02:16:38) \n",
      "[Clang 10.0.0 (clang-1000.11.45.5)]\n",
      "Cornac version: 1.6.1\n"
     ]
    }
   ],
   "source": [
    "import sys\n",
    "sys.path.append(\"../\")\n",
    "import os\n",
    "import cornac\n",
    "import surprise\n",
    "import pandas as pd\n",
    "\n",
    "from surprise.prediction_algorithms import KNNWithMeans\n",
    "from reco_utils.dataset.python_splitters import python_random_split\n",
    "from reco_utils.recommender.cornac.cornac_utils import predict_ranking\n",
    "from reco_utils.recommender.surprise.surprise_utils import predict, compute_ranking_predictions\n",
    "from reco_utils.evaluation.python_evaluation import map_at_k, ndcg_at_k, precision_at_k, recall_at_k\n",
    "from tabulate import tabulate\n",
    "\n",
    "print(\"System version: {}\".format(sys.version))\n",
    "print(\"Cornac version: {}\".format(cornac.__version__))"
   ]
  },
  {
   "cell_type": "markdown",
   "metadata": {},
   "source": [
    "# Load data"
   ]
  },
  {
   "cell_type": "code",
   "execution_count": 2,
   "metadata": {},
   "outputs": [
    {
     "name": "stdout",
     "output_type": "stream",
     "text": [
      "ML100K\n",
      "    userID  itemID  rating\n",
      "0     196     242       3\n",
      "1     186     302       3\n",
      "2      22     377       1\n",
      "3     244      51       2\n",
      "4     166     346       1\n",
      "\n",
      "\n",
      "\n",
      "PDA2018\n",
      "    userID  itemID  rating\n",
      "0       5     648       5\n",
      "1       5    1394       5\n",
      "2       5    3534       5\n",
      "3       5     104       4\n",
      "4       5    2735       5\n"
     ]
    }
   ],
   "source": [
    "# Read both the datasets from the files using pandas\n",
    "movielens_df = pd.read_csv(\"../data/u.data\", sep=\"\\t\", header=None)\n",
    "movielens_df.columns = [\"userID\", \"itemID\", \"rating\", \"timestamp\"]\n",
    "movielens_df = movielens_df.iloc[:,0:3]\n",
    "pda_df = pd.read_csv(\"../data/train-PDA2018.csv\", sep=\",\")\n",
    "pda_df = pda_df.iloc[:,0:3]\n",
    "print(\"ML100K\\n\", movielens_df.head())\n",
    "print(\"\\n\\n\")\n",
    "print(\"PDA2018\\n\", pda_df.head())"
   ]
  },
  {
   "cell_type": "markdown",
   "metadata": {},
   "source": [
    "# Experiment Variables"
   ]
  },
  {
   "cell_type": "code",
   "execution_count": 3,
   "metadata": {},
   "outputs": [],
   "source": [
    "results_table = []\n",
    "\n",
    "# Seed\n",
    "SEED = 21\n",
    "\n",
    "# Model parameters for BPR and NCF\n",
    "NUM_FACTORS = 200\n",
    "NUM_EPOCHS = 100\n",
    "reg_lambda = 0.001\n",
    "learning_rate = 0.01\n",
    "\n",
    "# Datasets\n",
    "datasets = {\n",
    "    \"ML100\": movielens_df,\n",
    "    \"PDA2018\": pda_df\n",
    "}"
   ]
  },
  {
   "cell_type": "markdown",
   "metadata": {},
   "source": [
    "# Build models and evaluate"
   ]
  },
  {
   "cell_type": "code",
   "execution_count": 4,
   "metadata": {},
   "outputs": [],
   "source": [
    "# Most Popular model\n",
    "most_pop_model = cornac.models.MostPop()\n",
    "\n",
    "# BPR model\n",
    "bpr_model = cornac.models.BPR(\n",
    "    k=NUM_FACTORS,\n",
    "    max_iter=NUM_EPOCHS,\n",
    "    learning_rate=learning_rate,\n",
    "    lambda_reg=reg_lambda,\n",
    "    verbose=True\n",
    ")\n",
    "\n",
    "# NCF model\n",
    "ncf_model = cornac.models.NeuMF(\n",
    "    num_factors=NUM_FACTORS,\n",
    "    layers=[64, 32, 16, 8],\n",
    "    act_fn=\"tanh\",\n",
    "    learner=\"adam\",\n",
    "    num_epochs=NUM_EPOCHS,\n",
    "    batch_size=256,\n",
    "    lr=learning_rate,\n",
    "    reg_mf=reg_lambda,\n",
    "    seed=SEED,\n",
    "    verbose=True\n",
    ")\n",
    "\n",
    "cornac_models = {\n",
    "    \"MostPop\": most_pop_model,\n",
    "    \"BPR\": bpr_model,\n",
    "    \"NCF\": ncf_model\n",
    "}"
   ]
  },
  {
   "cell_type": "markdown",
   "metadata": {},
   "source": [
    "# Run evaluation"
   ]
  },
  {
   "cell_type": "code",
   "execution_count": 5,
   "metadata": {},
   "outputs": [
    {
     "name": "stdout",
     "output_type": "stream",
     "text": [
      "Number of users: 943\n",
      "Number of items: 1653\n"
     ]
    }
   ],
   "source": [
    "# Train-test split\n",
    "train, test = python_random_split(movielens_df, 0.80)\n",
    "train_set = cornac.data.Dataset.from_uir(train.itertuples(index=False), seed=SEED)\n",
    "\n",
    "print('Number of users: {}'.format(train_set.num_users))\n",
    "print('Number of items: {}'.format(train_set.num_items))"
   ]
  },
  {
   "cell_type": "code",
   "execution_count": 6,
   "metadata": {},
   "outputs": [
    {
     "name": "stdout",
     "output_type": "stream",
     "text": [
      "Running eval on the ML100 dataset...\n",
      "\n",
      "MostPop ...\n",
      "\n",
      "Prec@5 0.21617021276595746 Prec@10 0.19255319148936173 Recall@5 0.07065926711599416 Recall@10 0.11425943901460381 NDCG@5 0.23050040907317546 NDCG@10 0.22076740254314156\n",
      "\n",
      "BPR ...\n",
      "\n"
     ]
    },
    {
     "data": {
      "application/vnd.jupyter.widget-view+json": {
       "model_id": "3911e73ab9cb42119850f9d9e8157b15",
       "version_major": 2,
       "version_minor": 0
      },
      "text/plain": [
       "HBox(children=(FloatProgress(value=0.0), HTML(value='')))"
      ]
     },
     "metadata": {},
     "output_type": "display_data"
    },
    {
     "name": "stdout",
     "output_type": "stream",
     "text": [
      "\n",
      "Optimization finished!\n",
      "Prec@5 0.3759574468085106 Prec@10 0.3232978723404255 Recall@5 0.11984306989572834 Recall@10 0.19529138286400322 NDCG@5 0.40038777517822666 NDCG@10 0.37812153785448827\n",
      "\n",
      "NCF ...\n",
      "\n"
     ]
    },
    {
     "data": {
      "application/vnd.jupyter.widget-view+json": {
       "model_id": "40d151ad63564074b68b0b1251be5d19",
       "version_major": 2,
       "version_minor": 0
      },
      "text/plain": [
       "HBox(children=(FloatProgress(value=0.0), HTML(value='')))"
      ]
     },
     "metadata": {},
     "output_type": "display_data"
    },
    {
     "name": "stdout",
     "output_type": "stream",
     "text": [
      "\n",
      "Prec@5 0.2542553191489362 Prec@10 0.2372340425531915 Recall@5 0.08398726542161752 Recall@10 0.15225814409205193 NDCG@5 0.2690760884154233 NDCG@10 0.2702837792958376\n",
      "\n",
      "Running eval on the PDA2018 dataset...\n",
      "\n",
      "MostPop ...\n",
      "\n",
      "Prec@5 0.21617021276595746 Prec@10 0.19255319148936173 Recall@5 0.07065926711599416 Recall@10 0.11425943901460381 NDCG@5 0.23050040907317546 NDCG@10 0.22076740254314156\n",
      "\n",
      "BPR ...\n",
      "\n"
     ]
    },
    {
     "data": {
      "application/vnd.jupyter.widget-view+json": {
       "model_id": "084e568ca8ea46baabe5931250c013ab",
       "version_major": 2,
       "version_minor": 0
      },
      "text/plain": [
       "HBox(children=(FloatProgress(value=0.0), HTML(value='')))"
      ]
     },
     "metadata": {},
     "output_type": "display_data"
    },
    {
     "name": "stdout",
     "output_type": "stream",
     "text": [
      "\n",
      "Optimization finished!\n",
      "Prec@5 0.38574468085106384 Prec@10 0.3337234042553192 Recall@5 0.13368465768819618 Recall@10 0.22161355205856664 NDCG@5 0.41098178715094263 NDCG@10 0.3931232445392719\n",
      "\n",
      "NCF ...\n",
      "\n"
     ]
    },
    {
     "data": {
      "application/vnd.jupyter.widget-view+json": {
       "model_id": "21925ed9bc4b477e9b19e672d846f8df",
       "version_major": 2,
       "version_minor": 0
      },
      "text/plain": [
       "HBox(children=(FloatProgress(value=0.0), HTML(value='')))"
      ]
     },
     "metadata": {},
     "output_type": "display_data"
    },
    {
     "name": "stdout",
     "output_type": "stream",
     "text": [
      "\n",
      "Prec@5 0.2546808510638298 Prec@10 0.23882978723404255 Recall@5 0.08454772647979034 Recall@10 0.1508863193874161 NDCG@5 0.26524391856134905 NDCG@10 0.268098474553774\n",
      "\n"
     ]
    }
   ],
   "source": [
    "for dataset in datasets:\n",
    "    print(\"Running eval on the\", dataset, \"dataset...\\n\")\n",
    "    for model in cornac_models:\n",
    "        print(model, \"...\\n\")\n",
    "        current_model = cornac_models[model]\n",
    "        current_model.fit(train_set)\n",
    "        # Predict all unseen entries\n",
    "        all_predictions = predict_ranking(current_model, train, usercol='userID', itemcol='itemID', remove_seen=True)\n",
    "\n",
    "        # Evaluate \n",
    "        precision_5 = precision_at_k(test, all_predictions, col_prediction='prediction', k=5)\n",
    "        precision_10 = precision_at_k(test, all_predictions, col_prediction='prediction', k=10)\n",
    "\n",
    "        recall_5 = recall_at_k(test, all_predictions, col_prediction='prediction', k=5)\n",
    "        recall_10 = recall_at_k(test, all_predictions, col_prediction='prediction', k=10)\n",
    "\n",
    "        ndcg_5 = ndcg_at_k(test, all_predictions, col_prediction='prediction', k=5)\n",
    "        ndcg_10 = ndcg_at_k(test, all_predictions, col_prediction='prediction', k=10)\n",
    "\n",
    "        new_line = [dataset+\"-\"+model, precision_5, precision_10, recall_5, recall_10, ndcg_5, ndcg_10]\n",
    "        results_table.append(new_line)\n",
    "\n",
    "        print(\"Prec@5\", precision_5, \"Prec@10\", precision_10, \"Recall@5\", recall_5, \"Recall@10\", recall_10, \\\n",
    "             \"NDCG@5\", ndcg_5, \"NDCG@10\", ndcg_10)\n",
    "        print()"
   ]
  },
  {
   "cell_type": "markdown",
   "metadata": {},
   "source": [
    "# Results\n"
   ]
  },
  {
   "cell_type": "code",
   "execution_count": 7,
   "metadata": {},
   "outputs": [
    {
     "name": "stdout",
     "output_type": "stream",
     "text": [
      "| Recommender     |    Pre@5 |   Pre@10 |     Rec@5 |   Rec@10 |   NDCG@5 |   NDCG@10 |\n",
      "|:----------------|---------:|---------:|----------:|---------:|---------:|----------:|\n",
      "| ML100-MostPop   | 0.21617  | 0.192553 | 0.0706593 | 0.114259 | 0.2305   |  0.220767 |\n",
      "| ML100-BPR       | 0.375957 | 0.323298 | 0.119843  | 0.195291 | 0.400388 |  0.378122 |\n",
      "| ML100-NCF       | 0.254255 | 0.237234 | 0.0839873 | 0.152258 | 0.269076 |  0.270284 |\n",
      "| PDA2018-MostPop | 0.21617  | 0.192553 | 0.0706593 | 0.114259 | 0.2305   |  0.220767 |\n",
      "| PDA2018-BPR     | 0.385745 | 0.333723 | 0.133685  | 0.221614 | 0.410982 |  0.393123 |\n",
      "| PDA2018-NCF     | 0.254681 | 0.23883  | 0.0845477 | 0.150886 | 0.265244 |  0.268098 |\n"
     ]
    }
   ],
   "source": [
    "# Display results of running the algorithms\n",
    "results_table_headers = [\"Recommender\", \"Pre@5\", \"Pre@10\", \"Rec@5\", \"Rec@10\", \"NDCG@5\", \"NDCG@10\"]\n",
    "print(tabulate(results_table, results_table_headers, tablefmt=\"pipe\"))"
   ]
  },
  {
   "cell_type": "code",
   "execution_count": 9,
   "metadata": {},
   "outputs": [],
   "source": [
    "# Export the results to a csv file\n",
    "results_df = pd.DataFrame(results_table, columns=[\"Recommender\", \"Pre@5\", \"Pre@10\", \"Rec@5\", \"Rec@10\", \"NDCG@5\", \"NDCG@10\"])\n",
    "results_df.to_csv(\"../data/item_recommendation_results.csv\")"
   ]
  },
  {
   "cell_type": "code",
   "execution_count": null,
   "metadata": {},
   "outputs": [],
   "source": []
  }
 ],
 "metadata": {
  "kernelspec": {
   "display_name": "Python 3",
   "language": "python",
   "name": "python3"
  },
  "language_info": {
   "codemirror_mode": {
    "name": "ipython",
    "version": 3
   },
   "file_extension": ".py",
   "mimetype": "text/x-python",
   "name": "python",
   "nbconvert_exporter": "python",
   "pygments_lexer": "ipython3",
   "version": "3.7.5"
  }
 },
 "nbformat": 4,
 "nbformat_minor": 4
}
