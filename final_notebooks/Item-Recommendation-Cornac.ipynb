{
 "cells": [
  {
   "cell_type": "code",
   "execution_count": 1,
   "metadata": {},
   "outputs": [
    {
     "name": "stdout",
     "output_type": "stream",
     "text": [
      "System version: 3.7.5 (default, Nov  1 2019, 02:16:38) \n",
      "[Clang 10.0.0 (clang-1000.11.45.5)]\n",
      "Cornac version: 1.6.1\n"
     ]
    }
   ],
   "source": [
    "import sys\n",
    "sys.path.append(\"../\")\n",
    "import os\n",
    "import cornac\n",
    "import surprise\n",
    "import pandas as pd\n",
    "\n",
    "from surprise.prediction_algorithms import KNNWithMeans\n",
    "from reco_utils.dataset.python_splitters import python_random_split\n",
    "from reco_utils.recommender.cornac.cornac_utils import predict_ranking\n",
    "from reco_utils.recommender.surprise.surprise_utils import predict, compute_ranking_predictions\n",
    "from reco_utils.evaluation.python_evaluation import map_at_k, ndcg_at_k, precision_at_k, recall_at_k\n",
    "from tabulate import tabulate\n",
    "\n",
    "print(\"System version: {}\".format(sys.version))\n",
    "print(\"Cornac version: {}\".format(cornac.__version__))"
   ]
  },
  {
   "cell_type": "markdown",
   "metadata": {},
   "source": [
    "# Load data"
   ]
  },
  {
   "cell_type": "code",
   "execution_count": 2,
   "metadata": {},
   "outputs": [
    {
     "name": "stdout",
     "output_type": "stream",
     "text": [
      "ML100K\n",
      "    userID  itemID  rating\n",
      "0     196     242       3\n",
      "1     186     302       3\n",
      "2      22     377       1\n",
      "3     244      51       2\n",
      "4     166     346       1\n",
      "\n",
      "\n",
      "\n",
      "PDA2018\n",
      "    userID  itemID  rating\n",
      "0       5     648       5\n",
      "1       5    1394       5\n",
      "2       5    3534       5\n",
      "3       5     104       4\n",
      "4       5    2735       5\n"
     ]
    }
   ],
   "source": [
    "# Read both the datasets from the files using pandas\n",
    "movielens_df = pd.read_csv(\"../data/u.data\", sep=\"\\t\", header=None)\n",
    "movielens_df.columns = [\"userID\", \"itemID\", \"rating\", \"timestamp\"]\n",
    "movielens_df = movielens_df.iloc[:,0:3]\n",
    "pda_df = pd.read_csv(\"../data/train-PDA2018.csv\", sep=\",\")\n",
    "pda_df = pda_df.iloc[:,0:3]\n",
    "print(\"ML100K\\n\", movielens_df.head())\n",
    "print(\"\\n\\n\")\n",
    "print(\"PDA2018\\n\", pda_df.head())"
   ]
  },
  {
   "cell_type": "markdown",
   "metadata": {},
   "source": [
    "# Experiment Variables"
   ]
  },
  {
   "cell_type": "code",
   "execution_count": 3,
   "metadata": {},
   "outputs": [],
   "source": [
    "results_table = [] # list that will store results\n",
    "kfolds = 5 # nr of k folds  for cross validation\n",
    "# Seed\n",
    "SEED = 21\n",
    "\n",
    "# Model parameters for BPR and NCF\n",
    "NUM_FACTORS = 200\n",
    "NUM_EPOCHS = 100\n",
    "reg_lambda = 0.001\n",
    "learning_rate = 0.01\n",
    "\n",
    "# Datasets\n",
    "datasets = {\n",
    "    \"ML100\": movielens_df,\n",
    "    \"PDA2018\": pda_df\n",
    "}"
   ]
  },
  {
   "cell_type": "markdown",
   "metadata": {},
   "source": [
    "# Build models and evaluate"
   ]
  },
  {
   "cell_type": "code",
   "execution_count": 4,
   "metadata": {},
   "outputs": [],
   "source": [
    "# Most Popular model\n",
    "most_pop_model = cornac.models.MostPop()\n",
    "\n",
    "# BPR model\n",
    "bpr_model = cornac.models.BPR(\n",
    "    k=NUM_FACTORS,\n",
    "    max_iter=NUM_EPOCHS,\n",
    "    learning_rate=learning_rate,\n",
    "    lambda_reg=reg_lambda,\n",
    "    verbose=True\n",
    ")\n",
    "\n",
    "# NCF model\n",
    "ncf_model = cornac.models.NeuMF(\n",
    "    num_factors=NUM_FACTORS,\n",
    "    layers=[64, 32, 16, 8],\n",
    "    act_fn=\"tanh\",\n",
    "    learner=\"adam\",\n",
    "    num_epochs=NUM_EPOCHS,\n",
    "    batch_size=256,\n",
    "    lr=learning_rate,\n",
    "    reg_mf=reg_lambda,\n",
    "    seed=SEED,\n",
    "    verbose=True\n",
    ")\n",
    "\n",
    "cornac_models = {\n",
    "    \"MostPop\": most_pop_model,\n",
    "    \"BPR\": bpr_model,\n",
    "    \"NCF\": ncf_model\n",
    "}"
   ]
  },
  {
   "cell_type": "markdown",
   "metadata": {},
   "source": [
    "# Run evaluation"
   ]
  },
  {
   "cell_type": "code",
   "execution_count": 5,
   "metadata": {},
   "outputs": [
    {
     "name": "stdout",
     "output_type": "stream",
     "text": [
      "Running eval on the ML100 dataset...\n",
      "\n",
      "Running 5-fold cross validation with MostPop on ML100 dataset ...\n",
      "\n",
      "\n",
      "Fold # 0\n",
      "Number of users: 943\n",
      "Number of items: 1653\n",
      "\n",
      "\n",
      "Fold # 1\n",
      "Number of users: 943\n",
      "Number of items: 1653\n",
      "\n",
      "\n",
      "Fold # 2\n",
      "Number of users: 943\n",
      "Number of items: 1653\n",
      "\n",
      "\n",
      "Fold # 3\n",
      "Number of users: 943\n",
      "Number of items: 1653\n",
      "\n",
      "\n",
      "Fold # 4\n",
      "Number of users: 943\n",
      "Number of items: 1653\n",
      "\n",
      "Running 5-fold cross validation with BPR on ML100 dataset ...\n",
      "\n",
      "\n",
      "Fold # 0\n",
      "Number of users: 943\n",
      "Number of items: 1653\n"
     ]
    },
    {
     "data": {
      "application/vnd.jupyter.widget-view+json": {
       "model_id": "3e9fb5a0386743888419d85a35bc5171",
       "version_major": 2,
       "version_minor": 0
      },
      "text/plain": [
       "HBox(children=(FloatProgress(value=0.0), HTML(value='')))"
      ]
     },
     "metadata": {},
     "output_type": "display_data"
    },
    {
     "name": "stdout",
     "output_type": "stream",
     "text": [
      "\n",
      "Optimization finished!\n",
      "\n",
      "\n",
      "Fold # 1\n",
      "Number of users: 943\n",
      "Number of items: 1653\n"
     ]
    },
    {
     "data": {
      "application/vnd.jupyter.widget-view+json": {
       "model_id": "4141c7af12934ad9a33cd686369249b5",
       "version_major": 2,
       "version_minor": 0
      },
      "text/plain": [
       "HBox(children=(FloatProgress(value=0.0), HTML(value='')))"
      ]
     },
     "metadata": {},
     "output_type": "display_data"
    },
    {
     "name": "stdout",
     "output_type": "stream",
     "text": [
      "\n",
      "Optimization finished!\n",
      "\n",
      "\n",
      "Fold # 2\n",
      "Number of users: 943\n",
      "Number of items: 1653\n"
     ]
    },
    {
     "data": {
      "application/vnd.jupyter.widget-view+json": {
       "model_id": "6f43f3c6bd9a445a8219c9aa7fdf1514",
       "version_major": 2,
       "version_minor": 0
      },
      "text/plain": [
       "HBox(children=(FloatProgress(value=0.0), HTML(value='')))"
      ]
     },
     "metadata": {},
     "output_type": "display_data"
    },
    {
     "name": "stdout",
     "output_type": "stream",
     "text": [
      "\n",
      "Optimization finished!\n",
      "\n",
      "\n",
      "Fold # 3\n",
      "Number of users: 943\n",
      "Number of items: 1653\n"
     ]
    },
    {
     "data": {
      "application/vnd.jupyter.widget-view+json": {
       "model_id": "0ce8424283de4479b1dc97526c3197fc",
       "version_major": 2,
       "version_minor": 0
      },
      "text/plain": [
       "HBox(children=(FloatProgress(value=0.0), HTML(value='')))"
      ]
     },
     "metadata": {},
     "output_type": "display_data"
    },
    {
     "name": "stdout",
     "output_type": "stream",
     "text": [
      "\n",
      "Optimization finished!\n",
      "\n",
      "\n",
      "Fold # 4\n",
      "Number of users: 943\n",
      "Number of items: 1653\n"
     ]
    },
    {
     "data": {
      "application/vnd.jupyter.widget-view+json": {
       "model_id": "e3da1ad0b1804017adea21df2364f57a",
       "version_major": 2,
       "version_minor": 0
      },
      "text/plain": [
       "HBox(children=(FloatProgress(value=0.0), HTML(value='')))"
      ]
     },
     "metadata": {},
     "output_type": "display_data"
    },
    {
     "name": "stdout",
     "output_type": "stream",
     "text": [
      "\n",
      "Optimization finished!\n",
      "\n",
      "Running 5-fold cross validation with NCF on ML100 dataset ...\n",
      "\n",
      "\n",
      "Fold # 0\n",
      "Number of users: 943\n",
      "Number of items: 1653\n"
     ]
    },
    {
     "data": {
      "application/vnd.jupyter.widget-view+json": {
       "model_id": "e52de493bc4d450cad461ed9b3892c31",
       "version_major": 2,
       "version_minor": 0
      },
      "text/plain": [
       "HBox(children=(FloatProgress(value=0.0), HTML(value='')))"
      ]
     },
     "metadata": {},
     "output_type": "display_data"
    },
    {
     "name": "stdout",
     "output_type": "stream",
     "text": [
      "\n",
      "\n",
      "\n",
      "Fold # 1\n",
      "Number of users: 943\n",
      "Number of items: 1653\n"
     ]
    },
    {
     "data": {
      "application/vnd.jupyter.widget-view+json": {
       "model_id": "a69853b4e38d4e4ebe319cfdd5552243",
       "version_major": 2,
       "version_minor": 0
      },
      "text/plain": [
       "HBox(children=(FloatProgress(value=0.0), HTML(value='')))"
      ]
     },
     "metadata": {},
     "output_type": "display_data"
    },
    {
     "name": "stdout",
     "output_type": "stream",
     "text": [
      "\n",
      "\n",
      "\n",
      "Fold # 2\n",
      "Number of users: 943\n",
      "Number of items: 1653\n"
     ]
    },
    {
     "data": {
      "application/vnd.jupyter.widget-view+json": {
       "model_id": "624b4d5833cd4408a4ddce7cae6fb0c3",
       "version_major": 2,
       "version_minor": 0
      },
      "text/plain": [
       "HBox(children=(FloatProgress(value=0.0), HTML(value='')))"
      ]
     },
     "metadata": {},
     "output_type": "display_data"
    },
    {
     "name": "stdout",
     "output_type": "stream",
     "text": [
      "\n",
      "\n",
      "\n",
      "Fold # 3\n",
      "Number of users: 943\n",
      "Number of items: 1653\n"
     ]
    },
    {
     "data": {
      "application/vnd.jupyter.widget-view+json": {
       "model_id": "afe8ef85d1724bbfad88bff02d3b335c",
       "version_major": 2,
       "version_minor": 0
      },
      "text/plain": [
       "HBox(children=(FloatProgress(value=0.0), HTML(value='')))"
      ]
     },
     "metadata": {},
     "output_type": "display_data"
    },
    {
     "name": "stdout",
     "output_type": "stream",
     "text": [
      "\n",
      "\n",
      "\n",
      "Fold # 4\n",
      "Number of users: 943\n",
      "Number of items: 1653\n"
     ]
    },
    {
     "data": {
      "application/vnd.jupyter.widget-view+json": {
       "model_id": "4977f03de1154ac0894ac7056ca9e162",
       "version_major": 2,
       "version_minor": 0
      },
      "text/plain": [
       "HBox(children=(FloatProgress(value=0.0), HTML(value='')))"
      ]
     },
     "metadata": {},
     "output_type": "display_data"
    },
    {
     "name": "stdout",
     "output_type": "stream",
     "text": [
      "\n",
      "\n",
      "Running eval on the PDA2018 dataset...\n",
      "\n",
      "Running 5-fold cross validation with MostPop on PDA2018 dataset ...\n",
      "\n",
      "\n",
      "Fold # 0\n",
      "Number of users: 943\n",
      "Number of items: 1653\n",
      "\n",
      "\n",
      "Fold # 1\n",
      "Number of users: 943\n",
      "Number of items: 1653\n",
      "\n",
      "\n",
      "Fold # 2\n",
      "Number of users: 943\n",
      "Number of items: 1653\n",
      "\n",
      "\n",
      "Fold # 3\n",
      "Number of users: 943\n",
      "Number of items: 1653\n",
      "\n",
      "\n",
      "Fold # 4\n",
      "Number of users: 943\n",
      "Number of items: 1653\n",
      "\n",
      "Running 5-fold cross validation with BPR on PDA2018 dataset ...\n",
      "\n",
      "\n",
      "Fold # 0\n",
      "Number of users: 943\n",
      "Number of items: 1653\n"
     ]
    },
    {
     "data": {
      "application/vnd.jupyter.widget-view+json": {
       "model_id": "b21e5621d3184b8aa7f37adbaca72abd",
       "version_major": 2,
       "version_minor": 0
      },
      "text/plain": [
       "HBox(children=(FloatProgress(value=0.0), HTML(value='')))"
      ]
     },
     "metadata": {},
     "output_type": "display_data"
    },
    {
     "name": "stdout",
     "output_type": "stream",
     "text": [
      "\n",
      "Optimization finished!\n",
      "\n",
      "\n",
      "Fold # 1\n",
      "Number of users: 943\n",
      "Number of items: 1653\n"
     ]
    },
    {
     "data": {
      "application/vnd.jupyter.widget-view+json": {
       "model_id": "c83c231760c948e8b7071beebcf0245e",
       "version_major": 2,
       "version_minor": 0
      },
      "text/plain": [
       "HBox(children=(FloatProgress(value=0.0), HTML(value='')))"
      ]
     },
     "metadata": {},
     "output_type": "display_data"
    },
    {
     "name": "stdout",
     "output_type": "stream",
     "text": [
      "\n",
      "Optimization finished!\n",
      "\n",
      "\n",
      "Fold # 2\n",
      "Number of users: 943\n",
      "Number of items: 1653\n"
     ]
    },
    {
     "data": {
      "application/vnd.jupyter.widget-view+json": {
       "model_id": "1399c2aec1cb40cb91ee3da6d086cc9c",
       "version_major": 2,
       "version_minor": 0
      },
      "text/plain": [
       "HBox(children=(FloatProgress(value=0.0), HTML(value='')))"
      ]
     },
     "metadata": {},
     "output_type": "display_data"
    },
    {
     "name": "stdout",
     "output_type": "stream",
     "text": [
      "\n",
      "Optimization finished!\n",
      "\n",
      "\n",
      "Fold # 3\n",
      "Number of users: 943\n",
      "Number of items: 1653\n"
     ]
    },
    {
     "data": {
      "application/vnd.jupyter.widget-view+json": {
       "model_id": "8a6c29eb8a094465a8b73c45be3d5623",
       "version_major": 2,
       "version_minor": 0
      },
      "text/plain": [
       "HBox(children=(FloatProgress(value=0.0), HTML(value='')))"
      ]
     },
     "metadata": {},
     "output_type": "display_data"
    },
    {
     "name": "stdout",
     "output_type": "stream",
     "text": [
      "\n",
      "Optimization finished!\n",
      "\n",
      "\n",
      "Fold # 4\n",
      "Number of users: 943\n",
      "Number of items: 1653\n"
     ]
    },
    {
     "data": {
      "application/vnd.jupyter.widget-view+json": {
       "model_id": "0c2c3024e3714f0bb433f0331a8f130c",
       "version_major": 2,
       "version_minor": 0
      },
      "text/plain": [
       "HBox(children=(FloatProgress(value=0.0), HTML(value='')))"
      ]
     },
     "metadata": {},
     "output_type": "display_data"
    },
    {
     "name": "stdout",
     "output_type": "stream",
     "text": [
      "\n",
      "Optimization finished!\n",
      "\n",
      "Running 5-fold cross validation with NCF on PDA2018 dataset ...\n",
      "\n",
      "\n",
      "Fold # 0\n",
      "Number of users: 943\n",
      "Number of items: 1653\n"
     ]
    },
    {
     "data": {
      "application/vnd.jupyter.widget-view+json": {
       "model_id": "4ae44c924609491f88d84b4fde9edecc",
       "version_major": 2,
       "version_minor": 0
      },
      "text/plain": [
       "HBox(children=(FloatProgress(value=0.0), HTML(value='')))"
      ]
     },
     "metadata": {},
     "output_type": "display_data"
    },
    {
     "name": "stdout",
     "output_type": "stream",
     "text": [
      "\n",
      "\n",
      "\n",
      "Fold # 1\n",
      "Number of users: 943\n",
      "Number of items: 1653\n"
     ]
    },
    {
     "data": {
      "application/vnd.jupyter.widget-view+json": {
       "model_id": "c275a87a42834e918e3c17655a84c6d4",
       "version_major": 2,
       "version_minor": 0
      },
      "text/plain": [
       "HBox(children=(FloatProgress(value=0.0), HTML(value='')))"
      ]
     },
     "metadata": {},
     "output_type": "display_data"
    },
    {
     "name": "stdout",
     "output_type": "stream",
     "text": [
      "\n",
      "\n",
      "\n",
      "Fold # 2\n",
      "Number of users: 943\n",
      "Number of items: 1653\n"
     ]
    },
    {
     "data": {
      "application/vnd.jupyter.widget-view+json": {
       "model_id": "e5e8d4e5da064464ba2b3e8a3fbfdb33",
       "version_major": 2,
       "version_minor": 0
      },
      "text/plain": [
       "HBox(children=(FloatProgress(value=0.0), HTML(value='')))"
      ]
     },
     "metadata": {},
     "output_type": "display_data"
    },
    {
     "name": "stdout",
     "output_type": "stream",
     "text": [
      "\n",
      "\n",
      "\n",
      "Fold # 3\n",
      "Number of users: 943\n",
      "Number of items: 1653\n"
     ]
    },
    {
     "data": {
      "application/vnd.jupyter.widget-view+json": {
       "model_id": "903778fb19f348e5bb02bfc74078b8dd",
       "version_major": 2,
       "version_minor": 0
      },
      "text/plain": [
       "HBox(children=(FloatProgress(value=0.0), HTML(value='')))"
      ]
     },
     "metadata": {},
     "output_type": "display_data"
    },
    {
     "name": "stdout",
     "output_type": "stream",
     "text": [
      "\n",
      "\n",
      "\n",
      "Fold # 4\n",
      "Number of users: 943\n",
      "Number of items: 1653\n"
     ]
    },
    {
     "data": {
      "application/vnd.jupyter.widget-view+json": {
       "model_id": "51cf5cc507e2476ba7e7906965003505",
       "version_major": 2,
       "version_minor": 0
      },
      "text/plain": [
       "HBox(children=(FloatProgress(value=0.0), HTML(value='')))"
      ]
     },
     "metadata": {},
     "output_type": "display_data"
    },
    {
     "name": "stdout",
     "output_type": "stream",
     "text": [
      "\n",
      "\n"
     ]
    }
   ],
   "source": [
    "for dataset in datasets:\n",
    "    print(\"Running eval on the\", dataset, \"dataset...\\n\")\n",
    "    for model in cornac_models:\n",
    "        \n",
    "        print(\"Running 5-fold cross validation with\", model, \"on\", dataset, \"dataset ...\")\n",
    "        \n",
    "        # Run cross validation\n",
    "        avg_prec_5 = 0\n",
    "        avg_prec_10 = 0\n",
    "        avg_rec_5 = 0\n",
    "        avg_rec_10 = 0\n",
    "        avg_ndcg_5 = 0\n",
    "        avg_ndcg_10 = 0\n",
    "        fold_nr = 0\n",
    "        for fold in range(kfolds):\n",
    "            print(\"\\n\\nFold #\", fold)\n",
    "\n",
    "            # Train-test split\n",
    "            train, test = python_random_split(movielens_df, 0.80)\n",
    "            train_set = cornac.data.Dataset.from_uir(train.itertuples(index=False), seed=SEED)\n",
    "            # Print a bit of information of the train set matrix \n",
    "            print('Number of users: {}'.format(train_set.num_users))\n",
    "            print('Number of items: {}'.format(train_set.num_items))\n",
    "\n",
    "            # Set the current model\n",
    "            current_model = cornac_models[model]\n",
    "            current_model.fit(train_set)\n",
    "\n",
    "            # Predict all unseen entries\n",
    "            all_predictions = predict_ranking(current_model, train, usercol='userID', itemcol='itemID', remove_seen=True)\n",
    "\n",
    "            # Evaluation metrics\n",
    "            avg_prec_5 += precision_at_k(test, all_predictions, col_prediction='prediction', k=5)\n",
    "            avg_prec_10 += precision_at_k(test, all_predictions, col_prediction='prediction', k=10)\n",
    "\n",
    "            avg_rec_5 += recall_at_k(test, all_predictions, col_prediction='prediction', k=5)\n",
    "            avg_rec_10 += recall_at_k(test, all_predictions, col_prediction='prediction', k=10)\n",
    "\n",
    "            avg_ndcg_5 += ndcg_at_k(test, all_predictions, col_prediction='prediction', k=5)\n",
    "            avg_ndcg_10 += ndcg_at_k(test, all_predictions, col_prediction='prediction', k=10)\n",
    "            fold_nr += 1\n",
    "\n",
    "\n",
    "        new_line = [dataset+\"-\"+model, avg_prec_5/5, avg_prec_10/5, avg_rec_5/5, \\\n",
    "                    avg_rec_10/5, avg_ndcg_5/5, avg_ndcg_10/5]\n",
    "        results_table.append(new_line)\n",
    "\n",
    "        print()"
   ]
  },
  {
   "cell_type": "markdown",
   "metadata": {},
   "source": [
    "# Results\n"
   ]
  },
  {
   "cell_type": "code",
   "execution_count": 6,
   "metadata": {},
   "outputs": [
    {
     "name": "stdout",
     "output_type": "stream",
     "text": [
      "| Recommender     |    Pre@5 |   Pre@10 |     Rec@5 |   Rec@10 |   NDCG@5 |   NDCG@10 |\n",
      "|:----------------|---------:|---------:|----------:|---------:|---------:|----------:|\n",
      "| ML100-MostPop   | 0.21617  | 0.192553 | 0.0706593 | 0.114259 | 0.2305   |  0.220767 |\n",
      "| ML100-BPR       | 0.363362 | 0.309915 | 0.12789   | 0.209184 | 0.389562 |  0.369578 |\n",
      "| ML100-NCF       | 0.254    | 0.235766 | 0.0844287 | 0.149687 | 0.265001 |  0.266357 |\n",
      "| PDA2018-MostPop | 0.21617  | 0.192553 | 0.0706593 | 0.114259 | 0.2305   |  0.220767 |\n",
      "| PDA2018-BPR     | 0.338213 | 0.288064 | 0.121397  | 0.198045 | 0.361512 |  0.344191 |\n",
      "| PDA2018-NCF     | 0.253489 | 0.235872 | 0.0846865 | 0.150544 | 0.259739 |  0.263504 |\n"
     ]
    }
   ],
   "source": [
    "# Display results of running the algorithms\n",
    "results_table_headers = [\"Recommender\", \"Pre@5\", \"Pre@10\", \"Rec@5\", \"Rec@10\", \"NDCG@5\", \"NDCG@10\"]\n",
    "print(tabulate(results_table, results_table_headers, tablefmt=\"pipe\"))"
   ]
  },
  {
   "cell_type": "code",
   "execution_count": 8,
   "metadata": {},
   "outputs": [],
   "source": [
    "# Export the results to a csv file\n",
    "results_df = pd.DataFrame(results_table, columns=[\"Recommender\", \"Pre@5\", \"Pre@10\", \"Rec@5\", \"Rec@10\", \"NDCG@5\", \"NDCG@10\"])\n",
    "results_df.to_csv(\"../data/item_recommendation_results.csv\")"
   ]
  },
  {
   "cell_type": "code",
   "execution_count": null,
   "metadata": {},
   "outputs": [],
   "source": []
  }
 ],
 "metadata": {
  "kernelspec": {
   "display_name": "Python 3",
   "language": "python",
   "name": "python3"
  },
  "language_info": {
   "codemirror_mode": {
    "name": "ipython",
    "version": 3
   },
   "file_extension": ".py",
   "mimetype": "text/x-python",
   "name": "python",
   "nbconvert_exporter": "python",
   "pygments_lexer": "ipython3",
   "version": "3.7.5"
  }
 },
 "nbformat": 4,
 "nbformat_minor": 4
}
