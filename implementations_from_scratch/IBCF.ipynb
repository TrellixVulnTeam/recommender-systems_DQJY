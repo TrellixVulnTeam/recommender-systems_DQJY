{
 "cells": [
  {
   "cell_type": "code",
   "execution_count": 1,
   "metadata": {},
   "outputs": [],
   "source": [
    "import pandas as pd\n",
    "import numpy as np\n",
    "import matplotlib.pyplot as plt\n",
    "from sklearn.model_selection import train_test_split\n",
    "from sklearn.metrics.pairwise import pairwise_distances\n",
    "from sklearn.metrics import mean_absolute_error, mean_squared_error"
   ]
  },
  {
   "cell_type": "markdown",
   "metadata": {},
   "source": [
    "# Load data"
   ]
  },
  {
   "cell_type": "code",
   "execution_count": 2,
   "metadata": {},
   "outputs": [],
   "source": [
    "# Split Movielens 100K data into train and test (80-20)\n",
    "np.seed = 1\n",
    "dataset = pd.read_csv(\"../data/u.data\",sep='\\t',names=\"user_id,item_id,rating,timestamp\".split(\",\"))\n",
    "dataset = dataset.iloc[:,:3]\n",
    "dataset.user_id = dataset.user_id.astype('category').cat.codes.values\n",
    "dataset.item_id = dataset.item_id.astype('category').cat.codes.values\n",
    "train, test = train_test_split(dataset, test_size=0.2)"
   ]
  },
  {
   "cell_type": "code",
   "execution_count": 3,
   "metadata": {},
   "outputs": [],
   "source": [
    "# Check that we have ratings in the train set for all the users in the \n",
    "for test_user in test[\"user_id\"].values:\n",
    "    if test_user not in train[\"user_id\"].values:\n",
    "        print(\"User\", test_user, \"is in the test set but not in the train set\")"
   ]
  },
  {
   "cell_type": "code",
   "execution_count": 4,
   "metadata": {},
   "outputs": [
    {
     "data": {
      "text/html": [
       "<div>\n",
       "<style scoped>\n",
       "    .dataframe tbody tr th:only-of-type {\n",
       "        vertical-align: middle;\n",
       "    }\n",
       "\n",
       "    .dataframe tbody tr th {\n",
       "        vertical-align: top;\n",
       "    }\n",
       "\n",
       "    .dataframe thead th {\n",
       "        text-align: right;\n",
       "    }\n",
       "</style>\n",
       "<table border=\"1\" class=\"dataframe\">\n",
       "  <thead>\n",
       "    <tr style=\"text-align: right;\">\n",
       "      <th></th>\n",
       "      <th>user_id</th>\n",
       "      <th>item_id</th>\n",
       "      <th>rating</th>\n",
       "    </tr>\n",
       "  </thead>\n",
       "  <tbody>\n",
       "    <tr>\n",
       "      <th>55150</th>\n",
       "      <td>601</td>\n",
       "      <td>456</td>\n",
       "      <td>3</td>\n",
       "    </tr>\n",
       "    <tr>\n",
       "      <th>21127</th>\n",
       "      <td>235</td>\n",
       "      <td>503</td>\n",
       "      <td>3</td>\n",
       "    </tr>\n",
       "    <tr>\n",
       "      <th>87166</th>\n",
       "      <td>565</td>\n",
       "      <td>384</td>\n",
       "      <td>3</td>\n",
       "    </tr>\n",
       "    <tr>\n",
       "      <th>39445</th>\n",
       "      <td>270</td>\n",
       "      <td>61</td>\n",
       "      <td>2</td>\n",
       "    </tr>\n",
       "    <tr>\n",
       "      <th>78864</th>\n",
       "      <td>828</td>\n",
       "      <td>732</td>\n",
       "      <td>2</td>\n",
       "    </tr>\n",
       "    <tr>\n",
       "      <th>...</th>\n",
       "      <td>...</td>\n",
       "      <td>...</td>\n",
       "      <td>...</td>\n",
       "    </tr>\n",
       "    <tr>\n",
       "      <th>97859</th>\n",
       "      <td>937</td>\n",
       "      <td>272</td>\n",
       "      <td>5</td>\n",
       "    </tr>\n",
       "    <tr>\n",
       "      <th>78548</th>\n",
       "      <td>880</td>\n",
       "      <td>553</td>\n",
       "      <td>1</td>\n",
       "    </tr>\n",
       "    <tr>\n",
       "      <th>96977</th>\n",
       "      <td>715</td>\n",
       "      <td>194</td>\n",
       "      <td>1</td>\n",
       "    </tr>\n",
       "    <tr>\n",
       "      <th>67726</th>\n",
       "      <td>667</td>\n",
       "      <td>288</td>\n",
       "      <td>2</td>\n",
       "    </tr>\n",
       "    <tr>\n",
       "      <th>64182</th>\n",
       "      <td>806</td>\n",
       "      <td>373</td>\n",
       "      <td>3</td>\n",
       "    </tr>\n",
       "  </tbody>\n",
       "</table>\n",
       "<p>20000 rows × 3 columns</p>\n",
       "</div>"
      ],
      "text/plain": [
       "       user_id  item_id  rating\n",
       "55150      601      456       3\n",
       "21127      235      503       3\n",
       "87166      565      384       3\n",
       "39445      270       61       2\n",
       "78864      828      732       2\n",
       "...        ...      ...     ...\n",
       "97859      937      272       5\n",
       "78548      880      553       1\n",
       "96977      715      194       1\n",
       "67726      667      288       2\n",
       "64182      806      373       3\n",
       "\n",
       "[20000 rows x 3 columns]"
      ]
     },
     "execution_count": 4,
     "metadata": {},
     "output_type": "execute_result"
    }
   ],
   "source": [
    "test"
   ]
  },
  {
   "cell_type": "markdown",
   "metadata": {},
   "source": [
    "# Compute item-item similarities "
   ]
  },
  {
   "cell_type": "code",
   "execution_count": 5,
   "metadata": {},
   "outputs": [
    {
     "name": "stdout",
     "output_type": "stream",
     "text": [
      "(1682, 943)\n"
     ]
    }
   ],
   "source": [
    "# First create the item-user matrix\n",
    "unique_users = dataset.user_id.unique()\n",
    "unique_items = dataset.item_id.unique()\n",
    "data_matrix = np.zeros((unique_items.shape[0], unique_users.shape[0]))\n",
    "\n",
    "# Use train data to build the similarity matrix\n",
    "for train_row in train.itertuples():\n",
    "    data_matrix[train_row.item_id - 1, train_row.user_id - 1] = train_row.rating\n",
    "\n",
    "print(data_matrix.shape) # We should have a 1682x943 matrix"
   ]
  },
  {
   "cell_type": "code",
   "execution_count": 6,
   "metadata": {},
   "outputs": [
    {
     "name": "stdout",
     "output_type": "stream",
     "text": [
      "(1682, 1682)\n"
     ]
    }
   ],
   "source": [
    "# Compute item-item similarity\n",
    "item_item_sims = pairwise_distances(data_matrix, metric=\"cosine\")\n",
    "print(item_item_sims.shape) # We should have a 1682x1682 square matrix where the main diagonal has entries = 0"
   ]
  },
  {
   "cell_type": "markdown",
   "metadata": {},
   "source": [
    "# Rating prediction"
   ]
  },
  {
   "cell_type": "code",
   "execution_count": 7,
   "metadata": {},
   "outputs": [],
   "source": [
    "# To perform the rating prediction we must first decide a K number of similar items which we wish to use\n",
    "# for the calculation. In this demonstration we'll be using 20, just like the implementation in Surprise\n",
    "def predict_rating(requested_user, requested_item, k=20):\n",
    "    # Get k most similar items to the requested item\n",
    "    most_sim_items_ind = np.argpartition(item_item_sims[requested_item-1], -k)[-k:]\n",
    "    \n",
    "    # Set up the variables for the rating prediction equation\n",
    "    nominator = 0\n",
    "    denominator = 0\n",
    "    predicted_rating = 0\n",
    "    \n",
    "    for sim_item in most_sim_items_ind:\n",
    "        nominator += item_item_sims[requested_item-1][sim_item]*data_matrix[sim_item][requested_user-1]\n",
    "        denominator += np.abs(item_item_sims[requested_item-1][sim_item])\n",
    "    \n",
    "    if(denominator != 0):     \n",
    "        predicted_rating = nominator/denominator\n",
    "        \n",
    "    return predicted_rating"
   ]
  },
  {
   "cell_type": "code",
   "execution_count": 8,
   "metadata": {},
   "outputs": [
    {
     "data": {
      "text/plain": [
       "0.0"
      ]
     },
     "execution_count": 8,
     "metadata": {},
     "output_type": "execute_result"
    }
   ],
   "source": [
    "# E.g Predict the rating of user 238 on item 80\n",
    "predict_rating(238, 80)"
   ]
  },
  {
   "cell_type": "code",
   "execution_count": 9,
   "metadata": {},
   "outputs": [
    {
     "name": "stdout",
     "output_type": "stream",
     "text": [
      "Predicting test set entries..\n",
      "Prediction done\n"
     ]
    }
   ],
   "source": [
    "# Run the prediction on all the items in the test set\n",
    "item_cf_predictions = []\n",
    "print(\"Predicting test set entries..\")\n",
    "for test_row in test.itertuples():\n",
    "    item_cf_predictions.append(predict_rating(test_row.user_id,test_row.item_id))\n",
    "print(\"Prediction done\")"
   ]
  },
  {
   "cell_type": "code",
   "execution_count": 10,
   "metadata": {},
   "outputs": [
    {
     "name": "stdout",
     "output_type": "stream",
     "text": [
      "MAE on test data: 3.50661\n",
      "RMSE on test data: 3.6883605775466153\n"
     ]
    }
   ],
   "source": [
    "print(\"MAE on test data:\",mean_absolute_error(test.rating.values, item_cf_predictions))\n",
    "print(\"RMSE on test data:\",np.sqrt(mean_squared_error(test.rating.values, item_cf_predictions)))"
   ]
  },
  {
   "cell_type": "code",
   "execution_count": null,
   "metadata": {},
   "outputs": [],
   "source": []
  }
 ],
 "metadata": {
  "kernelspec": {
   "display_name": "Python 3",
   "language": "python",
   "name": "python3"
  },
  "language_info": {
   "codemirror_mode": {
    "name": "ipython",
    "version": 3
   },
   "file_extension": ".py",
   "mimetype": "text/x-python",
   "name": "python",
   "nbconvert_exporter": "python",
   "pygments_lexer": "ipython3",
   "version": "3.7.5"
  }
 },
 "nbformat": 4,
 "nbformat_minor": 4
}
