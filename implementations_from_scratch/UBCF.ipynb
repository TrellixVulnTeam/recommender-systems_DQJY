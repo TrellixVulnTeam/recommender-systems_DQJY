{
 "cells": [
  {
   "cell_type": "code",
   "execution_count": 1,
   "metadata": {},
   "outputs": [],
   "source": [
    "import pandas as pd\n",
    "import numpy as np\n",
    "import matplotlib.pyplot as plt\n",
    "from sklearn.model_selection import train_test_split\n",
    "from sklearn.metrics.pairwise import pairwise_distances\n",
    "from sklearn.metrics import mean_absolute_error, mean_squared_error"
   ]
  },
  {
   "cell_type": "markdown",
   "metadata": {},
   "source": [
    "# Load data"
   ]
  },
  {
   "cell_type": "code",
   "execution_count": 2,
   "metadata": {},
   "outputs": [],
   "source": [
    "# Split Movielens 100K data into train and test (80-20)\n",
    "np.seed = 1\n",
    "dataset = pd.read_csv(\"../data/u.data\",sep='\\t',names=\"user_id,item_id,rating,timestamp\".split(\",\"))\n",
    "dataset = dataset.iloc[:,:3]\n",
    "dataset.user_id = dataset.user_id.astype('category').cat.codes.values\n",
    "dataset.item_id = dataset.item_id.astype('category').cat.codes.values\n",
    "train, test = train_test_split(dataset, test_size=0.2)"
   ]
  },
  {
   "cell_type": "code",
   "execution_count": 3,
   "metadata": {},
   "outputs": [],
   "source": [
    "# Check that we have ratings in the train set for all the users in the \n",
    "for test_user in test[\"user_id\"].values:\n",
    "    if test_user not in train[\"user_id\"].values:\n",
    "        print(\"User\", test_user, \"is in the test set but not in the train set\")"
   ]
  },
  {
   "cell_type": "code",
   "execution_count": 4,
   "metadata": {},
   "outputs": [
    {
     "data": {
      "text/html": [
       "<div>\n",
       "<style scoped>\n",
       "    .dataframe tbody tr th:only-of-type {\n",
       "        vertical-align: middle;\n",
       "    }\n",
       "\n",
       "    .dataframe tbody tr th {\n",
       "        vertical-align: top;\n",
       "    }\n",
       "\n",
       "    .dataframe thead th {\n",
       "        text-align: right;\n",
       "    }\n",
       "</style>\n",
       "<table border=\"1\" class=\"dataframe\">\n",
       "  <thead>\n",
       "    <tr style=\"text-align: right;\">\n",
       "      <th></th>\n",
       "      <th>user_id</th>\n",
       "      <th>item_id</th>\n",
       "      <th>rating</th>\n",
       "    </tr>\n",
       "  </thead>\n",
       "  <tbody>\n",
       "    <tr>\n",
       "      <th>63203</th>\n",
       "      <td>652</td>\n",
       "      <td>52</td>\n",
       "      <td>2</td>\n",
       "    </tr>\n",
       "    <tr>\n",
       "      <th>31050</th>\n",
       "      <td>502</td>\n",
       "      <td>560</td>\n",
       "      <td>5</td>\n",
       "    </tr>\n",
       "    <tr>\n",
       "      <th>20951</th>\n",
       "      <td>464</td>\n",
       "      <td>113</td>\n",
       "      <td>4</td>\n",
       "    </tr>\n",
       "    <tr>\n",
       "      <th>55276</th>\n",
       "      <td>436</td>\n",
       "      <td>185</td>\n",
       "      <td>3</td>\n",
       "    </tr>\n",
       "    <tr>\n",
       "      <th>11167</th>\n",
       "      <td>66</td>\n",
       "      <td>471</td>\n",
       "      <td>4</td>\n",
       "    </tr>\n",
       "    <tr>\n",
       "      <th>...</th>\n",
       "      <td>...</td>\n",
       "      <td>...</td>\n",
       "      <td>...</td>\n",
       "    </tr>\n",
       "    <tr>\n",
       "      <th>42865</th>\n",
       "      <td>584</td>\n",
       "      <td>1020</td>\n",
       "      <td>3</td>\n",
       "    </tr>\n",
       "    <tr>\n",
       "      <th>33324</th>\n",
       "      <td>12</td>\n",
       "      <td>232</td>\n",
       "      <td>4</td>\n",
       "    </tr>\n",
       "    <tr>\n",
       "      <th>64249</th>\n",
       "      <td>781</td>\n",
       "      <td>1587</td>\n",
       "      <td>3</td>\n",
       "    </tr>\n",
       "    <tr>\n",
       "      <th>84898</th>\n",
       "      <td>88</td>\n",
       "      <td>24</td>\n",
       "      <td>5</td>\n",
       "    </tr>\n",
       "    <tr>\n",
       "      <th>90565</th>\n",
       "      <td>737</td>\n",
       "      <td>929</td>\n",
       "      <td>3</td>\n",
       "    </tr>\n",
       "  </tbody>\n",
       "</table>\n",
       "<p>20000 rows × 3 columns</p>\n",
       "</div>"
      ],
      "text/plain": [
       "       user_id  item_id  rating\n",
       "63203      652       52       2\n",
       "31050      502      560       5\n",
       "20951      464      113       4\n",
       "55276      436      185       3\n",
       "11167       66      471       4\n",
       "...        ...      ...     ...\n",
       "42865      584     1020       3\n",
       "33324       12      232       4\n",
       "64249      781     1587       3\n",
       "84898       88       24       5\n",
       "90565      737      929       3\n",
       "\n",
       "[20000 rows x 3 columns]"
      ]
     },
     "execution_count": 4,
     "metadata": {},
     "output_type": "execute_result"
    }
   ],
   "source": [
    "test"
   ]
  },
  {
   "cell_type": "markdown",
   "metadata": {},
   "source": [
    "# Compute user-item similarities "
   ]
  },
  {
   "cell_type": "code",
   "execution_count": 5,
   "metadata": {},
   "outputs": [
    {
     "name": "stdout",
     "output_type": "stream",
     "text": [
      "(943, 1682)\n"
     ]
    }
   ],
   "source": [
    "# First create the user-item matrix\n",
    "unique_users = dataset.user_id.unique()\n",
    "unique_items = dataset.item_id.unique()\n",
    "data_matrix = np.zeros((unique_users.shape[0], unique_items.shape[0]))\n",
    "\n",
    "# Use train data to build the similarity matrix\n",
    "for train_row in train.itertuples():\n",
    "    data_matrix[train_row.user_id - 1, train_row.item_id - 1] = train_row.rating\n",
    "\n",
    "print(data_matrix.shape) # We should have a 943x1682 matrix"
   ]
  },
  {
   "cell_type": "code",
   "execution_count": 6,
   "metadata": {},
   "outputs": [
    {
     "name": "stdout",
     "output_type": "stream",
     "text": [
      "(943, 943)\n"
     ]
    }
   ],
   "source": [
    "# Compute user-user similarity\n",
    "user_user_sims = pairwise_distances(data_matrix, metric=\"cosine\")\n",
    "print(user_user_sims.shape) # We should have a 943x943 square matrix where the main diagonal has entries = 0"
   ]
  },
  {
   "cell_type": "markdown",
   "metadata": {},
   "source": [
    "# Rating prediction"
   ]
  },
  {
   "cell_type": "code",
   "execution_count": 1,
   "metadata": {},
   "outputs": [],
   "source": [
    "# To perform the rating prediction we must first decide a K number of similar items which we wish to use\n",
    "# for the calculation. In this demonstration we'll be using 80\n",
    "def predict_rating(requested_user, requested_item, k=80):\n",
    "    # Get k most similar users to the requested user\n",
    "    most_sim_users_ind = np.argpartition(user_user_sims[requested_user-1], -k)[-k:]\n",
    "    print(most_sim_users_ind)\n",
    "    \n",
    "    # Set up the variables for the rating prediction equation\n",
    "    nominator = 0\n",
    "    denominator = 0\n",
    "    predicted_rating = 0\n",
    "    mean_requested_user_rating = np.mean(data_matrix[requested_user-1])\n",
    "    \n",
    "    for sim_user in most_sim_users_ind:\n",
    "        mean_sim_user_rating = np.mean(data_matrix[sim_user-1])\n",
    "        \n",
    "        nominator += user_user_sims[requested_user-1][sim_user]* \\\n",
    "        (data_matrix[sim_user][requested_item-1]-mean_sim_user_rating)\n",
    "        \n",
    "        denominator += user_user_sims[requested_user-1][sim_user]\n",
    "    \n",
    "    if(denominator != 0):     \n",
    "        predicted_rating = mean_requested_user_rating + (nominator/denominator)\n",
    "        \n",
    "    return predicted_rating"
   ]
  },
  {
   "cell_type": "code",
   "execution_count": 8,
   "metadata": {},
   "outputs": [
    {
     "name": "stdout",
     "output_type": "stream",
     "text": [
      "Predicting test set entries..\n",
      "Prediction done\n"
     ]
    }
   ],
   "source": [
    "# Run the prediction on all the items in the test set\n",
    "user_cf_predictions = []\n",
    "print(\"Predicting test set entries..\")\n",
    "for test_row in test.itertuples():\n",
    "    user_cf_predictions.append(predict_rating(test_row.user_id,test_row.item_id))\n",
    "print(\"Prediction done\")"
   ]
  },
  {
   "cell_type": "code",
   "execution_count": 9,
   "metadata": {},
   "outputs": [
    {
     "name": "stdout",
     "output_type": "stream",
     "text": [
      "MAE on test data: 3.2741359720436556\n",
      "RMSE on test data: 3.474269887044732\n"
     ]
    }
   ],
   "source": [
    "print(\"MAE on test data:\",mean_absolute_error(test.rating.values, user_cf_predictions))\n",
    "print(\"RMSE on test data:\",np.sqrt(mean_squared_error(test.rating.values, user_cf_predictions)))"
   ]
  }
 ],
 "metadata": {
  "kernelspec": {
   "display_name": "Python 3",
   "language": "python",
   "name": "python3"
  },
  "language_info": {
   "codemirror_mode": {
    "name": "ipython",
    "version": 3
   },
   "file_extension": ".py",
   "mimetype": "text/x-python",
   "name": "python",
   "nbconvert_exporter": "python",
   "pygments_lexer": "ipython3",
   "version": "3.7.5"
  }
 },
 "nbformat": 4,
 "nbformat_minor": 4
}
