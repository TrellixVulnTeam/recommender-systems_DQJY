{
 "cells": [
  {
   "cell_type": "code",
   "execution_count": 1,
   "metadata": {},
   "outputs": [],
   "source": [
    "import pandas as pd\n",
    "import numpy as np\n",
    "from surprise import BaselineOnly, NormalPredictor\n",
    "from surprise import Dataset, Reader\n",
    "from surprise.model_selection import GridSearchCV, KFold, cross_validate, train_test_split\n",
    "from tabulate import tabulate"
   ]
  },
  {
   "cell_type": "markdown",
   "metadata": {},
   "source": [
    "# Create Surprise algorithms for the User, Item and Global Mean predictors"
   ]
  },
  {
   "cell_type": "code",
   "execution_count": 2,
   "metadata": {},
   "outputs": [],
   "source": [
    "from __future__ import (absolute_import, division, print_function,\n",
    "                        unicode_literals)\n",
    "\n",
    "from surprise.prediction_algorithms.algo_base import AlgoBase\n",
    "\n",
    "# Global mean baseline\n",
    "class GlobalMeanBaseline(AlgoBase):\n",
    "    \n",
    "    def __init__(self, verbose=True):\n",
    "        AlgoBase.__init__(self)\n",
    "        self.verbose = verbose\n",
    "\n",
    "    def fit(self, trainset):\n",
    "        AlgoBase.fit(self, trainset)\n",
    "        return self\n",
    "\n",
    "    def estimate(self, u, i):\n",
    "        est = self.trainset.global_mean\n",
    "        return est\n",
    "    \n",
    "# User mean baseline\n",
    "class UserMeanBaseline(AlgoBase):\n",
    "\n",
    "    def __init__(self, verbose=True):\n",
    "        AlgoBase.__init__(self)\n",
    "        self.verbose = verbose\n",
    "       \n",
    "    def fit(self, trainset):\n",
    "        AlgoBase.fit(self, trainset)\n",
    "        # Calculate all the mean rating of each user \n",
    "        user_ratings = mls_train.ur\n",
    "        mean_user_ratings = {}\n",
    "        for user_id in user_ratings.keys():\n",
    "            current_user_total_rating = 0\n",
    "            for item_rating_tuple in user_ratings[user_id]:\n",
    "                current_user_total_rating += item_rating_tuple[1]\n",
    "\n",
    "            mean_user_rating = current_user_total_rating/len(user_ratings[user_id])\n",
    "            mean_user_ratings[user_id] = mean_user_rating\n",
    "\n",
    "        self.mean_user_ratings = mean_user_ratings\n",
    "        return self\n",
    "\n",
    "    def estimate(self, u, i):\n",
    "        est = self.mean_user_ratings.get(u, self.trainset.global_mean)\n",
    "        return est\n",
    "    \n",
    "# Item mean baseline\n",
    "class ItemMeanBaseline(AlgoBase):\n",
    "\n",
    "    def __init__(self, verbose=True):\n",
    "        AlgoBase.__init__(self)\n",
    "        self.verbose = verbose\n",
    "\n",
    "    def fit(self, trainset):\n",
    "        AlgoBase.fit(self, trainset)\n",
    "        item_ratings = mls_train.ir\n",
    "        mean_item_ratings = {}\n",
    "        for item_id in item_ratings.keys():\n",
    "            current_item_total_rating = 0\n",
    "            for user_rating_tuple in item_ratings[item_id]:\n",
    "                current_item_total_rating += user_rating_tuple[1]\n",
    "\n",
    "            mean_item_rating = current_item_total_rating/len(item_ratings[item_id])\n",
    "            mean_item_ratings[item_id] = mean_item_rating\n",
    "\n",
    "        self.mean_item_ratings = mean_item_ratings\n",
    "        return self\n",
    "\n",
    "    def estimate(self, u, i):\n",
    "        # Cases for Unknown Items (i starts with UKN)\n",
    "        if(isinstance(i, str)):\n",
    "            est = 0\n",
    "        else:\n",
    "            est = self.mean_item_ratings.get(u, self.trainset.global_mean)\n",
    "\n",
    "        return est"
   ]
  },
  {
   "cell_type": "markdown",
   "metadata": {},
   "source": [
    "# Read and load data"
   ]
  },
  {
   "cell_type": "code",
   "execution_count": 3,
   "metadata": {},
   "outputs": [
    {
     "name": "stdout",
     "output_type": "stream",
     "text": [
      "   userID  itemID  rating  timestamp\n",
      "0     196     242       3  881250949\n",
      "1     186     302       3  891717742\n",
      "2      22     377       1  878887116\n",
      "3     244      51       2  880606923\n",
      "4     166     346       1  886397596\n",
      "\n",
      "\n",
      "\n",
      "   userID  itemID  rating  timeStamp\n",
      "0       5     648       5  978297876\n",
      "1       5    1394       5  978298237\n",
      "2       5    3534       5  978297149\n",
      "3       5     104       4  978298558\n",
      "4       5    2735       5  978297919\n"
     ]
    }
   ],
   "source": [
    "# Read both the datasets from the files using pandas\n",
    "movielens_df = pd.read_csv(\"../data/u.data\", sep=\"\\t\", header=None)\n",
    "movielens_df.columns = [\"userID\", \"itemID\", \"rating\", \"timestamp\"]\n",
    "pda_df = pd.read_csv(\"../data/train-PDA2018.csv\", sep=\",\")\n",
    "print(movielens_df.head())\n",
    "print(\"\\n\\n\")\n",
    "print(pda_df.head())"
   ]
  },
  {
   "cell_type": "code",
   "execution_count": 4,
   "metadata": {},
   "outputs": [
    {
     "name": "stdout",
     "output_type": "stream",
     "text": [
      "General information on the training sets we will be using \n",
      "\n",
      "1) Number of items in each dataset  ML100k: 1682 PDA: 1824\n",
      "2) Number of users in each dataset  ML100k: 943 PDA: 5690\n",
      "3) Number of ratings in each dataset  ML100k: 100000 PDA: 470711\n",
      "4) Mean rating  ML100k: 3.52986 PDA: 3.638361967321775\n"
     ]
    }
   ],
   "source": [
    "# Create the training datasets using Surprise's reader class\n",
    "reader = Reader(rating_scale=(1,5)) # We have ratings from 1 to 5 so we create the rating scale\n",
    "\n",
    "# Load the data from the dataframes\n",
    "movielens_dataset = Dataset.load_from_df(movielens_df.iloc[:,0:3], reader)\n",
    "pda_dataset = Dataset.load_from_df(pda_df.iloc[:,0:3], reader)\n",
    "\n",
    "# Build full trainsets to print out the data loaded above\n",
    "mls_train = movielens_dataset.build_full_trainset()\n",
    "pda_train = pda_dataset.build_full_trainset()\n",
    "\n",
    "# Print out some basic information about the datasets\n",
    "print(\"General information on the training sets we will be using \\n\")\n",
    "print(\"1) Number of items in each dataset\", \" ML100k:\", mls_train.n_items, \"PDA:\", pda_train.n_items)\n",
    "print(\"2) Number of users in each dataset\", \" ML100k:\", mls_train.n_users, \"PDA:\", pda_train.n_users)\n",
    "print(\"3) Number of ratings in each dataset\", \" ML100k:\", mls_train.n_ratings, \"PDA:\", pda_train.n_ratings)\n",
    "print(\"4) Mean rating\", \" ML100k:\", mls_train.global_mean, \"PDA:\", pda_train.global_mean)"
   ]
  },
  {
   "cell_type": "markdown",
   "metadata": {},
   "source": [
    "# Cross Validation of Basic Algorithms"
   ]
  },
  {
   "cell_type": "code",
   "execution_count": 5,
   "metadata": {},
   "outputs": [],
   "source": [
    "\"\"\" Experiment parameters and variables section \"\"\"\n",
    "# List that will contain the RMSE and MAE results\n",
    "results_table = []\n",
    "kf = KFold(n_splits=5) # define number of k splits for cross validation\n",
    "# Algorithms we will be using in this section\n",
    "algorithms = {\n",
    "    \"Random\": NormalPredictor, \n",
    "    \"GlobalMean\": GlobalMeanBaseline, \n",
    "    \"UserMean\": UserMeanBaseline, \n",
    "    \"ItemMean\": ItemMeanBaseline\n",
    "}\n",
    "# Datasets\n",
    "datasets = {\n",
    "    \"ML100\": movielens_dataset,\n",
    "    \"PDA2018\": pda_dataset\n",
    "}"
   ]
  },
  {
   "cell_type": "code",
   "execution_count": 6,
   "metadata": {},
   "outputs": [
    {
     "name": "stdout",
     "output_type": "stream",
     "text": [
      "Running 5-fold cross validation with Random on ML100 dataset ...\n",
      "Running 5-fold cross validation with GlobalMean on ML100 dataset ...\n",
      "Running 5-fold cross validation with UserMean on ML100 dataset ...\n",
      "Running 5-fold cross validation with ItemMean on ML100 dataset ...\n",
      "Running 5-fold cross validation with Random on PDA2018 dataset ...\n",
      "Running 5-fold cross validation with GlobalMean on PDA2018 dataset ...\n",
      "Running 5-fold cross validation with UserMean on PDA2018 dataset ...\n",
      "Running 5-fold cross validation with ItemMean on PDA2018 dataset ...\n"
     ]
    }
   ],
   "source": [
    "for dataset in datasets.keys():\n",
    "    for algorithm in algorithms.keys():\n",
    "        print(\"Running 5-fold cross validation with\", algorithm, \"on\", dataset, \"dataset ...\")\n",
    "        out = cross_validate(algorithms[algorithm](), datasets[dataset], [\"rmse\", \"mae\"], kf)\n",
    "        mean_rmse = \"{:.3f}.\".format(np.mean(out[\"test_rmse\"]))\n",
    "        mean_mae = \"{:.3f}.\".format(np.mean(out[\"test_mae\"]))\n",
    "        new_line = [dataset+\"-\"+algorithm, mean_rmse, mean_mae]\n",
    "        results_table.append(new_line)"
   ]
  },
  {
   "cell_type": "markdown",
   "metadata": {},
   "source": [
    "# Results"
   ]
  },
  {
   "cell_type": "code",
   "execution_count": 7,
   "metadata": {},
   "outputs": [
    {
     "name": "stdout",
     "output_type": "stream",
     "text": [
      "| Recommender        | RMSE   | MAE    |\n",
      "|:-------------------|:-------|:-------|\n",
      "| ML100-Random       | 1.519. | 1.219. |\n",
      "| ML100-GlobalMean   | 1.126. | 0.945. |\n",
      "| ML100-UserMean     | 1.208. | 0.972. |\n",
      "| ML100-ItemMean     | 1.278. | 1.035. |\n",
      "| PDA2018-Random     | 1.483. | 1.186. |\n",
      "| PDA2018-GlobalMean | 1.100. | 0.911. |\n",
      "| PDA2018-UserMean   | 1.136. | 0.931. |\n",
      "| PDA2018-ItemMean   | 1.290. | 1.045. |\n"
     ]
    }
   ],
   "source": [
    "# Display results of running the algorithms\n",
    "results_table_headers = [\"Recommender\", \"RMSE\", \"MAE\"]\n",
    "print(tabulate(results_table, results_table_headers, tablefmt=\"pipe\"))"
   ]
  },
  {
   "cell_type": "code",
   "execution_count": 8,
   "metadata": {},
   "outputs": [],
   "source": [
    "# Export the results to a csv file\n",
    "results_df = pd.DataFrame(results_table, columns=[\"Recommender\", \"RMSE\", \"MAE\"])\n",
    "results_df.to_csv(\"../data/basic_algorithms_results.csv\")"
   ]
  }
 ],
 "metadata": {
  "kernelspec": {
   "display_name": "Python 3",
   "language": "python",
   "name": "python3"
  },
  "language_info": {
   "codemirror_mode": {
    "name": "ipython",
    "version": 3
   },
   "file_extension": ".py",
   "mimetype": "text/x-python",
   "name": "python",
   "nbconvert_exporter": "python",
   "pygments_lexer": "ipython3",
   "version": "3.7.5"
  }
 },
 "nbformat": 4,
 "nbformat_minor": 4
}
