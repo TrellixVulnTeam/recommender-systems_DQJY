{
 "cells": [
  {
   "cell_type": "code",
   "execution_count": 1,
   "metadata": {},
   "outputs": [],
   "source": [
    "import numpy as np\n",
    "import pandas as pd\n",
    "import cornac\n",
    "from cornac.eval_methods import CrossValidation, RatioSplit\n",
    "from cornac.data import Reader\n",
    "from cornac.data import Dataset\n",
    "from cornac.hyperopt import Discrete, GridSearch\n",
    "from tabulate import tabulate"
   ]
  },
  {
   "cell_type": "markdown",
   "metadata": {},
   "source": [
    "# Read and load data"
   ]
  },
  {
   "cell_type": "code",
   "execution_count": 2,
   "metadata": {},
   "outputs": [
    {
     "name": "stdout",
     "output_type": "stream",
     "text": [
      "Movielens\n",
      "[('196', '242', 3.0), ('186', '302', 3.0), ('22', '377', 1.0), ('244', '51', 2.0), ('166', '346', 1.0)]\n",
      "\n",
      "PDA\n",
      "[('5', '648', 5.0), ('5', '1394', 5.0), ('5', '3534', 5.0), ('5', '104', 4.0), ('5', '2735', 5.0)]\n"
     ]
    }
   ],
   "source": [
    "# Init cornac reader object\n",
    "reader = Reader()\n",
    "# Read both the datasets from the files using cornac\n",
    "movielens_data = reader.read(fpath=\"../data/u.data\", sep=\"\\t\")\n",
    "pda_data = reader.read(fpath=\"../data/train-PDA2018.csv\", sep=\",\", skip_lines=1)\n",
    "print(\"Movielens\")\n",
    "print(movielens_data[:5])\n",
    "print()\n",
    "print(\"PDA\")\n",
    "print(pda_data[:5])"
   ]
  },
  {
   "cell_type": "code",
   "execution_count": 3,
   "metadata": {},
   "outputs": [
    {
     "name": "stdout",
     "output_type": "stream",
     "text": [
      "General information on the training sets we will be using \n",
      "\n",
      "1) Number of items in each dataset  ML100k: 1682 PDA: 1824\n",
      "2) Number of users in each dataset  ML100k: 943 PDA: 5690\n",
      "3) Number of ratings in each dataset  ML100k: 100000 PDA: 470711\n",
      "4) Mean rating  ML100k: 3.52986 PDA: 3.52986\n"
     ]
    }
   ],
   "source": [
    "# Build the datasets (This is similar to how surprise uses build_full_trainset)\n",
    "movielens_dataset = Dataset.build(movielens_data)\n",
    "pda_dataset = Dataset.build(pda_data)\n",
    "# Print out some basic information about the datasets\n",
    "print(\"General information on the training sets we will be using \\n\")\n",
    "print(\"1) Number of items in each dataset\", \" ML100k:\", movielens_dataset.num_items, \"PDA:\", pda_dataset.num_items)\n",
    "print(\"2) Number of users in each dataset\", \" ML100k:\", movielens_dataset.num_users, \"PDA:\", pda_dataset.num_users)\n",
    "print(\"3) Number of ratings in each dataset\", \" ML100k:\", movielens_dataset.num_ratings, \"PDA:\", pda_dataset.num_ratings)\n",
    "print(\"4) Mean rating\", \" ML100k:\", movielens_dataset.global_mean, \"PDA:\", movielens_dataset.global_mean)"
   ]
  },
  {
   "cell_type": "markdown",
   "metadata": {},
   "source": [
    "# BPR Model"
   ]
  },
  {
   "cell_type": "code",
   "execution_count": 4,
   "metadata": {},
   "outputs": [],
   "source": [
    "# Now we have data that is ready to be fed to the model\n",
    "\n",
    "# First of let's define the BPR model using cornac. Cornac gives us the possibility to tweak a lot of hyperparameters\n",
    "# We'll be using the default ones and then run a grid search to find out the best ones\n",
    "bpr_model = cornac.models.BPR(\n",
    "    k=10,\n",
    "    learning_rate=0.001,\n",
    "    lambda_reg=0.001\n",
    ")"
   ]
  },
  {
   "cell_type": "code",
   "execution_count": 5,
   "metadata": {},
   "outputs": [],
   "source": [
    "# Next we'll define the evaluation metrics for this model\n",
    "rec_5 = cornac.metrics.Recall(k=5)\n",
    "pre_5 = cornac.metrics.Precision(k=5)\n",
    "rec_10 = cornac.metrics.Recall(k=10)\n",
    "pre_10 = cornac.metrics.Precision(k=10)\n",
    "ndcg_5 = cornac.metrics.NDCG(k=5)\n",
    "ndcg_10 = cornac.metrics.NDCG(k=10)\n",
    "auc = cornac.metrics.AUC()"
   ]
  },
  {
   "cell_type": "code",
   "execution_count": 6,
   "metadata": {},
   "outputs": [
    {
     "name": "stdout",
     "output_type": "stream",
     "text": [
      "ML100K...\n",
      "rating_threshold = 1.0\n",
      "exclude_unknowns = True\n",
      "---\n",
      "Training data:\n",
      "Number of users = 943\n",
      "Number of items = 1658\n",
      "Number of ratings = 80000\n",
      "Max rating = 1.0\n",
      "Min rating = 1.0\n",
      "Global mean = 1.0\n",
      "---\n",
      "Test data:\n",
      "Number of users = 922\n",
      "Number of items = 1227\n",
      "Number of ratings = 9986\n",
      "Number of unknown users = 0\n",
      "Number of unknown items = 0\n",
      "---\n",
      "Validation data:\n",
      "Number of users = 925\n",
      "Number of items = 1242\n",
      "Number of ratings = 9986\n",
      "---\n",
      "Total users = 943\n",
      "Total items = 1658\n"
     ]
    }
   ],
   "source": [
    "# We created a simple model before so let us try and run a grid search for hyperparameter tuning\n",
    "\n",
    "# Define the parameters we want to tune and their values\n",
    "n_epochs_domain = Discrete(name=\"k\", values=[5,10,15])\n",
    "lr_domain = Discrete(\"learning_rate\", values=[0.001, 0.005, 0.01, 0.05])\n",
    "reg_mf_domain = Discrete(\"lambda_reg\", values=[0.01, 0.05, 0.1, 0.5])\n",
    "search_domain = [n_epochs_domain, lr_domain, reg_mf_domain]\n",
    "\n",
    "# Define the evaluation methods that will be used for the grid search. For this part we'll use a normal 80-10-10 \n",
    "# train-val-test split.\n",
    "\n",
    "print(\"ML100K...\")\n",
    "ml_train_test = RatioSplit(\n",
    "    data=movielens_data,\n",
    "    val_size=0.1,\n",
    "    test_size=0.1,\n",
    "    rating_threshold=1.0, # This parameter is the threshold used for ranking metrics\n",
    "    verbose=True\n",
    ")\n",
    "\n",
    "# We will run the Grid Search for the measures NDCG and Recall\n",
    "# This is done for time/performance constraints and also because BPR concentrates on ranking. \n",
    "# We will only use the Movielens dataset for the grid search (since the two datasets are similar)\n",
    "\n",
    "# Define the GridSearch objects\n",
    "ndcg_gs = GridSearch(model=bpr_model, space=search_domain, metric=ndcg_10, eval_method=ml_train_test)\n",
    "rec_gs = GridSearch(model=bpr_model, space=search_domain, metric=rec_10, eval_method=ml_train_test)\n",
    "\n",
    "## Define GridSearch for Movielens\n",
    "bpr_gridsearch = cornac.Experiment(\n",
    "    eval_method=ml_train_test,\n",
    "    models=[ndcg_gs, rec_gs],    \n",
    "    metrics=[ndcg_10, rec_10],\n",
    ")"
   ]
  },
  {
   "cell_type": "code",
   "execution_count": 7,
   "metadata": {},
   "outputs": [
    {
     "name": "stdout",
     "output_type": "stream",
     "text": [
      "\n",
      "[GridSearch_BPR] Training started!\n",
      "\n",
      "[GridSearch_BPR] Evaluation started!\n"
     ]
    },
    {
     "data": {
      "application/vnd.jupyter.widget-view+json": {
       "model_id": "29ea60c1d87f4b6d98d080f4fe8e3e08",
       "version_major": 2,
       "version_minor": 0
      },
      "text/plain": [
       "HBox(children=(FloatProgress(value=0.0, description='Ranking', max=922.0, style=ProgressStyle(description_widt…"
      ]
     },
     "metadata": {},
     "output_type": "display_data"
    },
    {
     "name": "stdout",
     "output_type": "stream",
     "text": [
      "\n"
     ]
    },
    {
     "data": {
      "application/vnd.jupyter.widget-view+json": {
       "model_id": "4ee0b118856f4e0c8b27a7a3f6ff76dd",
       "version_major": 2,
       "version_minor": 0
      },
      "text/plain": [
       "HBox(children=(FloatProgress(value=0.0, description='Ranking', max=925.0, style=ProgressStyle(description_widt…"
      ]
     },
     "metadata": {},
     "output_type": "display_data"
    },
    {
     "name": "stdout",
     "output_type": "stream",
     "text": [
      "\n",
      "\n",
      "[GridSearch_BPR] Training started!\n",
      "\n",
      "[GridSearch_BPR] Evaluation started!\n"
     ]
    },
    {
     "data": {
      "application/vnd.jupyter.widget-view+json": {
       "model_id": "475fa288b69b4debaf1df5f5f7398e98",
       "version_major": 2,
       "version_minor": 0
      },
      "text/plain": [
       "HBox(children=(FloatProgress(value=0.0, description='Ranking', max=922.0, style=ProgressStyle(description_widt…"
      ]
     },
     "metadata": {},
     "output_type": "display_data"
    },
    {
     "name": "stdout",
     "output_type": "stream",
     "text": [
      "\n"
     ]
    },
    {
     "data": {
      "application/vnd.jupyter.widget-view+json": {
       "model_id": "677ea5dc7b2c42af96797cb4f21335f4",
       "version_major": 2,
       "version_minor": 0
      },
      "text/plain": [
       "HBox(children=(FloatProgress(value=0.0, description='Ranking', max=925.0, style=ProgressStyle(description_widt…"
      ]
     },
     "metadata": {},
     "output_type": "display_data"
    },
    {
     "name": "stdout",
     "output_type": "stream",
     "text": [
      "\n",
      "\n",
      "VALIDATION:\n",
      "...\n",
      "               | NDCG@10 | Recall@10 | Time (s)\n",
      "-------------- + ------- + --------- + --------\n",
      "GridSearch_BPR |  0.0963 |    0.1071 |   0.8610\n",
      "GridSearch_BPR |  0.0902 |    0.1075 |   1.3693\n",
      "\n",
      "TEST:\n",
      "...\n",
      "               | NDCG@10 | Recall@10 | Train (s) | Test (s)\n",
      "-------------- + ------- + --------- + --------- + --------\n",
      "GridSearch_BPR |  0.0966 |    0.1074 |   86.6429 |   0.9885\n",
      "GridSearch_BPR |  0.0984 |    0.1112 |   89.7593 |   1.6706\n",
      "\n"
     ]
    }
   ],
   "source": [
    "## RUN Grisearch for Movielens\n",
    "gridsearch_results = bpr_gridsearch.run()"
   ]
  },
  {
   "cell_type": "code",
   "execution_count": 8,
   "metadata": {},
   "outputs": [
    {
     "name": "stdout",
     "output_type": "stream",
     "text": [
      "Best params based on the NDCG@10 evaluated Grid Search: {'k': 5, 'lambda_reg': 0.01, 'learning_rate': 0.01}\n",
      "\n",
      "Best params based on the Recall@10 evaluated Grid Search: {'k': 15, 'lambda_reg': 0.01, 'learning_rate': 0.01}\n"
     ]
    }
   ],
   "source": [
    "print(\"Best params based on the NDCG@10 evaluated Grid Search:\", ndcg_gs.best_params)\n",
    "print()\n",
    "print(\"Best params based on the Recall@10 evaluated Grid Search:\", rec_gs.best_params)"
   ]
  },
  {
   "cell_type": "markdown",
   "metadata": {},
   "source": [
    "# 5-fold Cross Validation"
   ]
  },
  {
   "cell_type": "code",
   "execution_count": 9,
   "metadata": {},
   "outputs": [],
   "source": [
    "# Use the model parameters that were found to work best by the grid search\n",
    "bpr_model = cornac.models.BPR(\n",
    "    k=10,\n",
    "    learning_rate=0.05,\n",
    "    lambda_reg=0.05\n",
    ")"
   ]
  },
  {
   "cell_type": "code",
   "execution_count": 10,
   "metadata": {},
   "outputs": [
    {
     "name": "stdout",
     "output_type": "stream",
     "text": [
      "ML100K...\n",
      "rating_threshold = 1.0\n",
      "exclude_unknowns = True\n",
      "\n",
      "PDA...\n",
      "rating_threshold = 1.0\n",
      "exclude_unknowns = True\n"
     ]
    }
   ],
   "source": [
    "# Here we are creating the cross validation procedures for the evaluation. As we can see from the parameters\n",
    "# we will be running 5f CV on our model on both datasets. The objects that we construct here will be used\n",
    "# in the cornac experiments in the next cell.\n",
    "print(\"ML100K...\")\n",
    "ml_cv = CrossValidation(\n",
    "    data=movielens_data,\n",
    "    n_folds=5,\n",
    "    rating_threshold=1.0, # This parameter is the threshold used for ranking metrics\n",
    "    seed = 0,\n",
    "    verbose=True\n",
    ")\n",
    "print()\n",
    "print(\"PDA...\")\n",
    "pda_cv = CrossValidation(\n",
    "    data=pda_data,\n",
    "    n_folds=5,\n",
    "    rating_threshold=1.0,\n",
    "    seed = 0,\n",
    "    verbose=True\n",
    ")"
   ]
  },
  {
   "cell_type": "code",
   "execution_count": 11,
   "metadata": {
    "scrolled": false
   },
   "outputs": [
    {
     "name": "stdout",
     "output_type": "stream",
     "text": [
      "Fold: 1\n",
      "---\n",
      "Training data:\n",
      "Number of users = 943\n",
      "Number of items = 1648\n",
      "Number of ratings = 80000\n",
      "Max rating = 1.0\n",
      "Min rating = 1.0\n",
      "Global mean = 1.0\n",
      "---\n",
      "Test data:\n",
      "Number of users = 943\n",
      "Number of items = 1382\n",
      "Number of ratings = 19966\n",
      "Number of unknown users = 0\n",
      "Number of unknown items = 0\n",
      "---\n",
      "Validation data:\n",
      "Number of users = 943\n",
      "Number of items = 1382\n",
      "Number of ratings = 19966\n",
      "---\n",
      "Total users = 943\n",
      "Total items = 1648\n",
      "\n",
      "[BPR] Training started!\n",
      "\n",
      "[BPR] Evaluation started!\n"
     ]
    },
    {
     "data": {
      "application/vnd.jupyter.widget-view+json": {
       "model_id": "5dcfe1057a3e4783b1ee3b566ad67140",
       "version_major": 2,
       "version_minor": 0
      },
      "text/plain": [
       "HBox(children=(FloatProgress(value=0.0, description='Ranking', max=943.0, style=ProgressStyle(description_widt…"
      ]
     },
     "metadata": {},
     "output_type": "display_data"
    },
    {
     "name": "stdout",
     "output_type": "stream",
     "text": [
      "\n",
      "Fold: 2\n",
      "---\n",
      "Training data:\n",
      "Number of users = 943\n",
      "Number of items = 1652\n",
      "Number of ratings = 80000\n",
      "Max rating = 1.0\n",
      "Min rating = 1.0\n",
      "Global mean = 1.0\n",
      "---\n",
      "Test data:\n",
      "Number of users = 942\n",
      "Number of items = 1371\n",
      "Number of ratings = 19967\n",
      "Number of unknown users = 0\n",
      "Number of unknown items = 0\n",
      "---\n",
      "Validation data:\n",
      "Number of users = 942\n",
      "Number of items = 1371\n",
      "Number of ratings = 19967\n",
      "---\n",
      "Total users = 943\n",
      "Total items = 1652\n",
      "\n",
      "[BPR] Training started!\n",
      "\n",
      "[BPR] Evaluation started!\n"
     ]
    },
    {
     "data": {
      "application/vnd.jupyter.widget-view+json": {
       "model_id": "4d83c6e860aa45729c3045debcefc2de",
       "version_major": 2,
       "version_minor": 0
      },
      "text/plain": [
       "HBox(children=(FloatProgress(value=0.0, description='Ranking', max=942.0, style=ProgressStyle(description_widt…"
      ]
     },
     "metadata": {},
     "output_type": "display_data"
    },
    {
     "name": "stdout",
     "output_type": "stream",
     "text": [
      "\n",
      "Fold: 3\n",
      "---\n",
      "Training data:\n",
      "Number of users = 943\n",
      "Number of items = 1651\n",
      "Number of ratings = 80000\n",
      "Max rating = 1.0\n",
      "Min rating = 1.0\n",
      "Global mean = 1.0\n",
      "---\n",
      "Test data:\n",
      "Number of users = 940\n",
      "Number of items = 1390\n",
      "Number of ratings = 19965\n",
      "Number of unknown users = 0\n",
      "Number of unknown items = 0\n",
      "---\n",
      "Validation data:\n",
      "Number of users = 940\n",
      "Number of items = 1390\n",
      "Number of ratings = 19965\n",
      "---\n",
      "Total users = 943\n",
      "Total items = 1651\n",
      "\n",
      "[BPR] Training started!\n",
      "\n",
      "[BPR] Evaluation started!\n"
     ]
    },
    {
     "data": {
      "application/vnd.jupyter.widget-view+json": {
       "model_id": "a262a97238454940b2fecdc2c6940d68",
       "version_major": 2,
       "version_minor": 0
      },
      "text/plain": [
       "HBox(children=(FloatProgress(value=0.0, description='Ranking', max=940.0, style=ProgressStyle(description_widt…"
      ]
     },
     "metadata": {},
     "output_type": "display_data"
    },
    {
     "name": "stdout",
     "output_type": "stream",
     "text": [
      "\n",
      "Fold: 4\n",
      "---\n",
      "Training data:\n",
      "Number of users = 943\n",
      "Number of items = 1656\n",
      "Number of ratings = 80000\n",
      "Max rating = 1.0\n",
      "Min rating = 1.0\n",
      "Global mean = 1.0\n",
      "---\n",
      "Test data:\n",
      "Number of users = 943\n",
      "Number of items = 1397\n",
      "Number of ratings = 19969\n",
      "Number of unknown users = 0\n",
      "Number of unknown items = 0\n",
      "---\n",
      "Validation data:\n",
      "Number of users = 943\n",
      "Number of items = 1397\n",
      "Number of ratings = 19969\n",
      "---\n",
      "Total users = 943\n",
      "Total items = 1656\n",
      "\n",
      "[BPR] Training started!\n",
      "\n",
      "[BPR] Evaluation started!\n"
     ]
    },
    {
     "data": {
      "application/vnd.jupyter.widget-view+json": {
       "model_id": "21ff400cc9004605977edea08a3d1bc4",
       "version_major": 2,
       "version_minor": 0
      },
      "text/plain": [
       "HBox(children=(FloatProgress(value=0.0, description='Ranking', max=943.0, style=ProgressStyle(description_widt…"
      ]
     },
     "metadata": {},
     "output_type": "display_data"
    },
    {
     "name": "stdout",
     "output_type": "stream",
     "text": [
      "\n",
      "Fold: 5\n",
      "---\n",
      "Training data:\n",
      "Number of users = 943\n",
      "Number of items = 1646\n",
      "Number of ratings = 80000\n",
      "Max rating = 1.0\n",
      "Min rating = 1.0\n",
      "Global mean = 1.0\n",
      "---\n",
      "Test data:\n",
      "Number of users = 942\n",
      "Number of items = 1383\n",
      "Number of ratings = 19959\n",
      "Number of unknown users = 0\n",
      "Number of unknown items = 0\n",
      "---\n",
      "Validation data:\n",
      "Number of users = 942\n",
      "Number of items = 1383\n",
      "Number of ratings = 19959\n",
      "---\n",
      "Total users = 943\n",
      "Total items = 1646\n",
      "\n",
      "[BPR] Training started!\n",
      "\n",
      "[BPR] Evaluation started!\n"
     ]
    },
    {
     "data": {
      "application/vnd.jupyter.widget-view+json": {
       "model_id": "4e13897cb50040f29d6a74b052255e7b",
       "version_major": 2,
       "version_minor": 0
      },
      "text/plain": [
       "HBox(children=(FloatProgress(value=0.0, description='Ranking', max=942.0, style=ProgressStyle(description_widt…"
      ]
     },
     "metadata": {},
     "output_type": "display_data"
    },
    {
     "name": "stdout",
     "output_type": "stream",
     "text": [
      "\n",
      "\n",
      "TEST:\n",
      "...\n",
      "[BPR]\n",
      "       |    AUC | NDCG@10 | NDCG@5 | Precision@10 | Precision@5 | Recall@10 | Recall@5 | Train (s) | Test (s)\n",
      "------ + ------ + ------- + ------ + ------------ + ----------- + --------- + -------- + --------- + --------\n",
      "Fold 0 | 0.9263 |  0.1432 | 0.1357 |       0.1230 |      0.1302 |    0.1024 |   0.0549 |    1.1242 |   2.1431\n",
      "Fold 1 | 0.9265 |  0.1415 | 0.1305 |       0.1266 |      0.1280 |    0.1033 |   0.0520 |    1.1832 |   1.9369\n",
      "Fold 2 | 0.9251 |  0.1397 | 0.1308 |       0.1234 |      0.1264 |    0.0979 |   0.0518 |    1.1720 |   1.9822\n",
      "Fold 3 | 0.9274 |  0.1511 | 0.1446 |       0.1317 |      0.1370 |    0.1018 |   0.0533 |    1.1787 |   1.9836\n",
      "Fold 4 | 0.9258 |  0.1473 | 0.1397 |       0.1282 |      0.1361 |    0.1045 |   0.0561 |    1.0972 |   1.9695\n",
      "------ + ------ + ------- + ------ + ------------ + ----------- + --------- + -------- + --------- + --------\n",
      "Mean   | 0.9262 |  0.1445 | 0.1362 |       0.1266 |      0.1315 |    0.1020 |   0.0536 |    1.1511 |   2.0031\n",
      "Std    | 0.0007 |  0.0041 | 0.0054 |       0.0032 |      0.0043 |    0.0023 |   0.0017 |    0.0342 |   0.0720\n",
      "\n"
     ]
    }
   ],
   "source": [
    "# RUN 5-fold cross validation w/ Grid Search on Movielens\n",
    "ml_bpr = cornac.Experiment(\n",
    "    eval_method=ml_cv,\n",
    "    models=[bpr_model],    \n",
    "    metrics=[ndcg_5, ndcg_10, pre_5, pre_10, rec_5, rec_10, auc],\n",
    ")\n",
    "ml_bpr.run()"
   ]
  },
  {
   "cell_type": "code",
   "execution_count": 12,
   "metadata": {},
   "outputs": [
    {
     "name": "stdout",
     "output_type": "stream",
     "text": [
      "Fold: 1\n",
      "---\n",
      "Training data:\n",
      "Number of users = 5679\n",
      "Number of items = 1823\n",
      "Number of ratings = 376569\n",
      "Max rating = 1.0\n",
      "Min rating = 1.0\n",
      "Global mean = 1.0\n",
      "---\n",
      "Test data:\n",
      "Number of users = 5313\n",
      "Number of items = 1780\n",
      "Number of ratings = 94116\n",
      "Number of unknown users = 0\n",
      "Number of unknown items = 0\n",
      "---\n",
      "Validation data:\n",
      "Number of users = 5313\n",
      "Number of items = 1780\n",
      "Number of ratings = 94116\n",
      "---\n",
      "Total users = 5679\n",
      "Total items = 1823\n",
      "\n",
      "[BPR] Training started!\n",
      "\n",
      "[BPR] Evaluation started!\n"
     ]
    },
    {
     "data": {
      "application/vnd.jupyter.widget-view+json": {
       "model_id": "deda0f32f68d43d2a55606ff44182d3f",
       "version_major": 2,
       "version_minor": 0
      },
      "text/plain": [
       "HBox(children=(FloatProgress(value=0.0, description='Ranking', max=5313.0, style=ProgressStyle(description_wid…"
      ]
     },
     "metadata": {},
     "output_type": "display_data"
    },
    {
     "name": "stdout",
     "output_type": "stream",
     "text": [
      "\n",
      "Fold: 2\n",
      "---\n",
      "Training data:\n",
      "Number of users = 5685\n",
      "Number of items = 1821\n",
      "Number of ratings = 376569\n",
      "Max rating = 1.0\n",
      "Min rating = 1.0\n",
      "Global mean = 1.0\n",
      "---\n",
      "Test data:\n",
      "Number of users = 5294\n",
      "Number of items = 1791\n",
      "Number of ratings = 94127\n",
      "Number of unknown users = 0\n",
      "Number of unknown items = 0\n",
      "---\n",
      "Validation data:\n",
      "Number of users = 5294\n",
      "Number of items = 1791\n",
      "Number of ratings = 94127\n",
      "---\n",
      "Total users = 5685\n",
      "Total items = 1821\n",
      "\n",
      "[BPR] Training started!\n",
      "\n",
      "[BPR] Evaluation started!\n"
     ]
    },
    {
     "data": {
      "application/vnd.jupyter.widget-view+json": {
       "model_id": "281c4f9389214a92b52984b6b75370ea",
       "version_major": 2,
       "version_minor": 0
      },
      "text/plain": [
       "HBox(children=(FloatProgress(value=0.0, description='Ranking', max=5294.0, style=ProgressStyle(description_wid…"
      ]
     },
     "metadata": {},
     "output_type": "display_data"
    },
    {
     "name": "stdout",
     "output_type": "stream",
     "text": [
      "\n",
      "Fold: 3\n",
      "---\n",
      "Training data:\n",
      "Number of users = 5684\n",
      "Number of items = 1823\n",
      "Number of ratings = 376568\n",
      "Max rating = 1.0\n",
      "Min rating = 1.0\n",
      "Global mean = 1.0\n",
      "---\n",
      "Test data:\n",
      "Number of users = 5328\n",
      "Number of items = 1798\n",
      "Number of ratings = 94129\n",
      "Number of unknown users = 0\n",
      "Number of unknown items = 0\n",
      "---\n",
      "Validation data:\n",
      "Number of users = 5328\n",
      "Number of items = 1798\n",
      "Number of ratings = 94129\n",
      "---\n",
      "Total users = 5684\n",
      "Total items = 1823\n",
      "\n",
      "[BPR] Training started!\n",
      "\n",
      "[BPR] Evaluation started!\n"
     ]
    },
    {
     "data": {
      "application/vnd.jupyter.widget-view+json": {
       "model_id": "4406d8f9543346d0a05eafc67d6e8707",
       "version_major": 2,
       "version_minor": 0
      },
      "text/plain": [
       "HBox(children=(FloatProgress(value=0.0, description='Ranking', max=5328.0, style=ProgressStyle(description_wid…"
      ]
     },
     "metadata": {},
     "output_type": "display_data"
    },
    {
     "name": "stdout",
     "output_type": "stream",
     "text": [
      "\n",
      "Fold: 4\n",
      "---\n",
      "Training data:\n",
      "Number of users = 5684\n",
      "Number of items = 1822\n",
      "Number of ratings = 376569\n",
      "Max rating = 1.0\n",
      "Min rating = 1.0\n",
      "Global mean = 1.0\n",
      "---\n",
      "Test data:\n",
      "Number of users = 5303\n",
      "Number of items = 1787\n",
      "Number of ratings = 94125\n",
      "Number of unknown users = 0\n",
      "Number of unknown items = 0\n",
      "---\n",
      "Validation data:\n",
      "Number of users = 5303\n",
      "Number of items = 1787\n",
      "Number of ratings = 94125\n",
      "---\n",
      "Total users = 5684\n",
      "Total items = 1822\n",
      "\n",
      "[BPR] Training started!\n",
      "\n",
      "[BPR] Evaluation started!\n"
     ]
    },
    {
     "data": {
      "application/vnd.jupyter.widget-view+json": {
       "model_id": "0801cc9b4a1d4d2c9382a9d425db9e7b",
       "version_major": 2,
       "version_minor": 0
      },
      "text/plain": [
       "HBox(children=(FloatProgress(value=0.0, description='Ranking', max=5303.0, style=ProgressStyle(description_wid…"
      ]
     },
     "metadata": {},
     "output_type": "display_data"
    },
    {
     "name": "stdout",
     "output_type": "stream",
     "text": [
      "\n",
      "Fold: 5\n",
      "---\n",
      "Training data:\n",
      "Number of users = 5682\n",
      "Number of items = 1820\n",
      "Number of ratings = 376569\n",
      "Max rating = 1.0\n",
      "Min rating = 1.0\n",
      "Global mean = 1.0\n",
      "---\n",
      "Test data:\n",
      "Number of users = 5281\n",
      "Number of items = 1799\n",
      "Number of ratings = 94121\n",
      "Number of unknown users = 0\n",
      "Number of unknown items = 0\n",
      "---\n",
      "Validation data:\n",
      "Number of users = 5281\n",
      "Number of items = 1799\n",
      "Number of ratings = 94121\n",
      "---\n",
      "Total users = 5682\n",
      "Total items = 1820\n",
      "\n",
      "[BPR] Training started!\n",
      "\n",
      "[BPR] Evaluation started!\n"
     ]
    },
    {
     "data": {
      "application/vnd.jupyter.widget-view+json": {
       "model_id": "9a243ee31d844eff98842d3a1a58690c",
       "version_major": 2,
       "version_minor": 0
      },
      "text/plain": [
       "HBox(children=(FloatProgress(value=0.0, description='Ranking', max=5281.0, style=ProgressStyle(description_wid…"
      ]
     },
     "metadata": {},
     "output_type": "display_data"
    },
    {
     "name": "stdout",
     "output_type": "stream",
     "text": [
      "\n",
      "\n",
      "TEST:\n",
      "...\n",
      "[BPR]\n",
      "       |    AUC | NDCG@10 | NDCG@5 | Precision@10 | Precision@5 | Recall@10 | Recall@5 | Train (s) | Test (s)\n",
      "------ + ------ + ------- + ------ + ------------ + ----------- + --------- + -------- + --------- + --------\n",
      "Fold 0 | 0.8862 |  0.1095 | 0.1026 |       0.0904 |      0.0967 |    0.0855 |   0.0475 |    6.6819 |  10.7381\n",
      "Fold 1 | 0.8842 |  0.1089 | 0.1038 |       0.0905 |      0.0985 |    0.0832 |   0.0456 |    6.8926 |  11.4937\n",
      "Fold 2 | 0.8829 |  0.1054 | 0.0982 |       0.0868 |      0.0913 |    0.0813 |   0.0442 |    6.6394 |  10.8333\n",
      "Fold 3 | 0.8815 |  0.1100 | 0.1050 |       0.0903 |      0.0987 |    0.0829 |   0.0452 |    7.4389 |  10.4338\n",
      "Fold 4 | 0.8824 |  0.1138 | 0.1069 |       0.0930 |      0.0989 |    0.0870 |   0.0487 |    6.7097 |  10.4109\n",
      "------ + ------ + ------- + ------ + ------------ + ----------- + --------- + -------- + --------- + --------\n",
      "Mean   | 0.8834 |  0.1095 | 0.1033 |       0.0902 |      0.0968 |    0.0840 |   0.0462 |    6.8725 |  10.7820\n",
      "Std    | 0.0016 |  0.0027 | 0.0029 |       0.0020 |      0.0029 |    0.0020 |   0.0016 |    0.2961 |   0.3924\n",
      "\n"
     ]
    }
   ],
   "source": [
    "# RUN 5-fold cross validation on PDA\n",
    "pda_bpr = cornac.Experiment(\n",
    "    eval_method=pda_cv,\n",
    "    models=[bpr_model],    \n",
    "    metrics=[ndcg_5, ndcg_10, pre_5, pre_10, rec_5, rec_10, auc],\n",
    ")\n",
    "pda_bpr.run()"
   ]
  },
  {
   "cell_type": "markdown",
   "metadata": {},
   "source": [
    "# Results"
   ]
  },
  {
   "cell_type": "code",
   "execution_count": 13,
   "metadata": {},
   "outputs": [
    {
     "name": "stdout",
     "output_type": "stream",
     "text": [
      "ML100 Results\n",
      "AUC             0.926284\n",
      "NDCG@10         0.143171\n",
      "NDCG@5          0.135671\n",
      "Precision@10    0.123012\n",
      "Precision@5     0.130223\n",
      "Recall@10       0.102428\n",
      "Recall@5        0.054893\n",
      "Train (s)       1.124155\n",
      "Test (s)        2.143086\n",
      "Name: ML100-BPR, dtype: float64\n"
     ]
    }
   ],
   "source": [
    "# Export results for both models\n",
    "print(\"ML100 Results\")\n",
    "for entry in ml_bpr.result:\n",
    "    results_dict = entry[0].metric_avg_results\n",
    "    ml_results_temp_df = pd.DataFrame(results_dict, index=['ML100-BPR' for key in results_dict.keys()])\n",
    "    ml_results_df = ml_results_temp_df.iloc[0, :].T\n",
    "    print(ml_results_df)"
   ]
  },
  {
   "cell_type": "code",
   "execution_count": 14,
   "metadata": {},
   "outputs": [
    {
     "name": "stdout",
     "output_type": "stream",
     "text": [
      "PDA2018 Results\n",
      "AUC              0.886181\n",
      "NDCG@10          0.109502\n",
      "NDCG@5           0.102628\n",
      "Precision@10     0.090401\n",
      "Precision@5      0.096744\n",
      "Recall@10        0.085466\n",
      "Recall@5         0.047545\n",
      "Train (s)        6.681921\n",
      "Test (s)        10.738146\n",
      "Name: PDA-BPR, dtype: float64\n"
     ]
    }
   ],
   "source": [
    "print(\"PDA2018 Results\")\n",
    "for entry in pda_bpr.result:\n",
    "    results_dict = entry[0].metric_avg_results\n",
    "    pda_results_temp_df = pd.DataFrame(results_dict, index=['PDA-BPR' for key in results_dict.keys()])\n",
    "    pda_results_df = pda_results_temp_df.iloc[0, :].T\n",
    "    print(pda_results_df)"
   ]
  },
  {
   "cell_type": "code",
   "execution_count": 15,
   "metadata": {},
   "outputs": [],
   "source": [
    "# Export data\n",
    "final_results_df = ml_results_df.append(pda_results_df)\n",
    "final_results_df.to_csv(\"../data/bpr_results.csv\")"
   ]
  }
 ],
 "metadata": {
  "kernelspec": {
   "display_name": "Python 3",
   "language": "python",
   "name": "python3"
  },
  "language_info": {
   "codemirror_mode": {
    "name": "ipython",
    "version": 3
   },
   "file_extension": ".py",
   "mimetype": "text/x-python",
   "name": "python",
   "nbconvert_exporter": "python",
   "pygments_lexer": "ipython3",
   "version": "3.7.5"
  }
 },
 "nbformat": 4,
 "nbformat_minor": 4
}
