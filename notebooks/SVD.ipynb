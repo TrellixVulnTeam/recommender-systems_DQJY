{
 "cells": [
  {
   "cell_type": "code",
   "execution_count": 1,
   "metadata": {},
   "outputs": [],
   "source": [
    "import pandas as pd\n",
    "import numpy as np\n",
    "from surprise import SVD\n",
    "from surprise import Dataset, Reader\n",
    "from surprise.model_selection import GridSearchCV, train_test_split\n",
    "from tabulate import tabulate"
   ]
  },
  {
   "cell_type": "markdown",
   "metadata": {},
   "source": [
    "# Read and load data"
   ]
  },
  {
   "cell_type": "code",
   "execution_count": 2,
   "metadata": {},
   "outputs": [
    {
     "name": "stdout",
     "output_type": "stream",
     "text": [
      "   userID  itemID  rating  timestamp\n",
      "0     196     242       3  881250949\n",
      "1     186     302       3  891717742\n",
      "2      22     377       1  878887116\n",
      "3     244      51       2  880606923\n",
      "4     166     346       1  886397596\n",
      "\n",
      "\n",
      "\n",
      "   userID  itemID  rating  timeStamp\n",
      "0       5     648       5  978297876\n",
      "1       5    1394       5  978298237\n",
      "2       5    3534       5  978297149\n",
      "3       5     104       4  978298558\n",
      "4       5    2735       5  978297919\n"
     ]
    }
   ],
   "source": [
    "# Read both the datasets from the files using pandas\n",
    "movielens_df = pd.read_csv(\"../data/u.data\", sep=\"\\t\", header=None)\n",
    "movielens_df.columns = [\"userID\", \"itemID\", \"rating\", \"timestamp\"]\n",
    "pda_df = pd.read_csv(\"../data/train-PDA2018.csv\", sep=\",\")\n",
    "print(movielens_df.head())\n",
    "print(\"\\n\\n\")\n",
    "print(pda_df.head())"
   ]
  },
  {
   "cell_type": "code",
   "execution_count": 3,
   "metadata": {},
   "outputs": [
    {
     "name": "stdout",
     "output_type": "stream",
     "text": [
      "General information on the training sets we will be using \n",
      "\n",
      "1) Number of items in each dataset  ML100k: 1682 PDA: 1824\n",
      "2) Number of users in each dataset  ML100k: 943 PDA: 5690\n",
      "3) Number of ratings in each dataset  ML100k: 100000 PDA: 470711\n",
      "4) Mean rating  ML100k: 3.52986 PDA: 3.638361967321775\n"
     ]
    }
   ],
   "source": [
    "# Create the training datasets using Surprise's reader class\n",
    "reader = Reader(rating_scale=(1,5)) # We have ratings from 1 to 5 so we create the rating scale\n",
    "\n",
    "# Load the data from the dataframes\n",
    "movielens_dataset = Dataset.load_from_df(movielens_df.iloc[:,0:3], reader)\n",
    "pda_dataset = Dataset.load_from_df(pda_df.iloc[:,0:3], reader)\n",
    "\n",
    "# Build full trainsets to print out the data loaded above\n",
    "mls_train = movielens_dataset.build_full_trainset()\n",
    "pda_train = pda_dataset.build_full_trainset()\n",
    "\n",
    "# Print out some basic information about the datasets\n",
    "print(\"General information on the training sets we will be using \\n\")\n",
    "print(\"1) Number of items in each dataset\", \" ML100k:\", mls_train.n_items, \"PDA:\", pda_train.n_items)\n",
    "print(\"2) Number of users in each dataset\", \" ML100k:\", mls_train.n_users, \"PDA:\", pda_train.n_users)\n",
    "print(\"3) Number of ratings in each dataset\", \" ML100k:\", mls_train.n_ratings, \"PDA:\", pda_train.n_ratings)\n",
    "print(\"4) Mean rating\", \" ML100k:\", mls_train.global_mean, \"PDA:\", pda_train.global_mean)"
   ]
  },
  {
   "cell_type": "markdown",
   "metadata": {},
   "source": [
    "# SVD Matrix Factorization "
   ]
  },
  {
   "cell_type": "code",
   "execution_count": 4,
   "metadata": {},
   "outputs": [],
   "source": [
    "# A list that will contain the results of the cross validation procedure\n",
    "results_table = []\n",
    "# Define the parameters and their respective ranges\n",
    "param_grid = {\n",
    "    \"n_epochs\": [5,20],\n",
    "    \"lr_all\": [0.001, 0.05],\n",
    "    \"reg_all\": [0.01, 0.5]\n",
    "}"
   ]
  },
  {
   "cell_type": "code",
   "execution_count": 5,
   "metadata": {},
   "outputs": [
    {
     "name": "stdout",
     "output_type": "stream",
     "text": [
      "Running grid search for SVD\n",
      "\n",
      "Results:\n",
      "Best RMSE: 0.9627817210760583\n",
      "Best params for RMSE {'n_epochs': 20, 'lr_all': 0.001, 'reg_all': 0.01}\n",
      "Best MAE: 0.7645289775914335\n",
      "Best params for MAE {'n_epochs': 20, 'lr_all': 0.001, 'reg_all': 0.01}\n",
      "\n",
      "\n"
     ]
    }
   ],
   "source": [
    "# Run grid search in order to check for parameters that will allow for optimal RMSE and MAE\n",
    "\n",
    "## RUN 1: MOVIELENS\n",
    "gs = GridSearchCV(SVD, param_grid, measures=[\"rmse\", \"mae\"], cv=5) # 5-fold CV\n",
    "print(\"Running grid search for SVD\")\n",
    "gs.fit(movielens_dataset)\n",
    "results_table.append([\"ML100-SVD\", '{:.3f}.'.format(gs.best_score[\"rmse\"]), '{:.3f}.'.format(gs.best_score[\"mae\"])])\n",
    "# Print out the the best RMSE, MAE and the respective model parameters\n",
    "print(\"\\nResults:\")\n",
    "print(\"Best RMSE:\", gs.best_score[\"rmse\"])\n",
    "print(\"Best params for RMSE\", gs.best_params[\"rmse\"])\n",
    "print(\"Best MAE:\", gs.best_score[\"mae\"])\n",
    "print(\"Best params for MAE\", gs.best_params[\"mae\"])\n",
    "print(\"\\n\")"
   ]
  },
  {
   "cell_type": "code",
   "execution_count": 6,
   "metadata": {},
   "outputs": [
    {
     "name": "stdout",
     "output_type": "stream",
     "text": [
      "Running grid search for SVD\n",
      "\n",
      "Results:\n",
      "Best RMSE: 0.9120663745394613\n",
      "Best params for RMSE {'n_epochs': 20, 'lr_all': 0.001, 'reg_all': 0.01}\n",
      "Best MAE: 0.7204927535006436\n",
      "Best params for MAE {'n_epochs': 20, 'lr_all': 0.001, 'reg_all': 0.01}\n",
      "\n",
      "\n"
     ]
    }
   ],
   "source": [
    "## RUN 2: PDA2018\n",
    "gs = GridSearchCV(SVD, param_grid, measures=[\"rmse\", \"mae\"], cv=5) # 5-fold CV\n",
    "print(\"Running grid search for SVD\")\n",
    "gs.fit(pda_dataset)\n",
    "results_table.append([\"PDA-SVD\", '{:.3f}.'.format(gs.best_score[\"rmse\"]), '{:.3f}.'.format(gs.best_score[\"mae\"])])\n",
    "# Print out the the best RMSE, MAE and the respective model parameters\n",
    "print(\"\\nResults:\")\n",
    "print(\"Best RMSE:\", gs.best_score[\"rmse\"])\n",
    "print(\"Best params for RMSE\", gs.best_params[\"rmse\"])\n",
    "print(\"Best MAE:\", gs.best_score[\"mae\"])\n",
    "print(\"Best params for MAE\", gs.best_params[\"mae\"])\n",
    "print(\"\\n\")"
   ]
  },
  {
   "cell_type": "code",
   "execution_count": 7,
   "metadata": {},
   "outputs": [
    {
     "name": "stdout",
     "output_type": "stream",
     "text": [
      "| Recommender   | RMSE   | MAE    |\n",
      "|:--------------|:-------|:-------|\n",
      "| ML100-SVD     | 0.963. | 0.765. |\n",
      "| PDA-SVD       | 0.912. | 0.720. |\n"
     ]
    }
   ],
   "source": [
    "# Display results of running the algorithms\n",
    "results_table_headers = [\"Recommender\", \"RMSE\", \"MAE\"]\n",
    "print(tabulate(results_table, results_table_headers, tablefmt=\"pipe\"))"
   ]
  },
  {
   "cell_type": "code",
   "execution_count": 8,
   "metadata": {},
   "outputs": [],
   "source": [
    "# Export the results to a csv file\n",
    "results_df = pd.DataFrame(results_table, columns=[\"Recommender\", \"RMSE\", \"MAE\"])\n",
    "results_df.to_csv(\"../data/svd_algorithm_results.csv\")"
   ]
  }
 ],
 "metadata": {
  "kernelspec": {
   "display_name": "Python 3",
   "language": "python",
   "name": "python3"
  },
  "language_info": {
   "codemirror_mode": {
    "name": "ipython",
    "version": 3
   },
   "file_extension": ".py",
   "mimetype": "text/x-python",
   "name": "python",
   "nbconvert_exporter": "python",
   "pygments_lexer": "ipython3",
   "version": "3.7.5"
  }
 },
 "nbformat": 4,
 "nbformat_minor": 4
}
